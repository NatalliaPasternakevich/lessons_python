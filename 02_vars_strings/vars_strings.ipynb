{
 "cells": [
  {
   "cell_type": "markdown",
   "metadata": {},
   "source": [
    "# Программирование это:\n",
    "\n",
    "- Данные\n",
    "- Алгоритмы\n",
    "- Обработка этих данных\n",
    "    - CRUD(l):\n",
    "        - Create\n",
    "        - Read\n",
    "        - Update\n",
    "        - Delete\n",
    "        - List"
   ]
  },
  {
   "cell_type": "markdown",
   "metadata": {},
   "source": [
    "# The First Ever Program"
   ]
  },
  {
   "cell_type": "code",
   "execution_count": 1,
   "metadata": {},
   "outputs": [
    {
     "name": "stdout",
     "output_type": "stream",
     "text": [
      "Hello World!!!\n"
     ]
    }
   ],
   "source": [
    "print(\"Hello World!!!\")"
   ]
  },
  {
   "cell_type": "code",
   "execution_count": 2,
   "metadata": {
    "scrolled": true,
    "slideshow": {
     "slide_type": "slide"
    }
   },
   "outputs": [
    {
     "name": "stdout",
     "output_type": "stream",
     "text": [
      "3.10.4 (main, Jun 29 2022, 12:14:53) [GCC 11.2.0]\n"
     ]
    }
   ],
   "source": [
    "import sys\n",
    "\n",
    "print(sys.version)"
   ]
  },
  {
   "cell_type": "markdown",
   "metadata": {},
   "source": [
    "## Как запустить программу на python?\n",
    "\n",
    "```\n",
    "  for linux and macs\n",
    "  \n",
    "python3 ./my_mega_programm.py\n",
    "  |                |\n",
    "  |                |\n",
    "  who runs         what to run with a path to the file\n",
    "\n",
    "  for windows\n",
    "  \n",
    "python .\\my_mega_programm.py\n",
    "  |                |\n",
    "  |                |\n",
    "  who runs         what to run with a path to the file\n",
    "```"
   ]
  },
  {
   "cell_type": "markdown",
   "metadata": {},
   "source": [
    "## How it runs\n",
    "\n",
    "![how it runs](./images/how-it-runs.png)"
   ]
  },
  {
   "cell_type": "markdown",
   "metadata": {},
   "source": [
    "# Занятие 1\n",
    "* Hello Word!\n",
    "* Переменные\n",
    "* Выражения\n",
    "    * Арифметические преобразования\n",
    "    * Сравнение\n",
    "    * Принадлежность (in)\n",
    "    * Булевые (and / or)\n",
    "    * ..\n",
    "* Операторы\n",
    "* Порядок операций\n",
    "* Git - Github"
   ]
  },
  {
   "cell_type": "code",
   "execution_count": null,
   "metadata": {},
   "outputs": [],
   "source": [
    "print('Hello world')"
   ]
  },
  {
   "cell_type": "markdown",
   "metadata": {},
   "source": [
    "# Встроенные типы данных(build-in)\n",
    "\n",
    "\n",
    "\n",
    "1. Зачем?\n",
    "1. [Какие есть?](https://docs.python.org/3/reference/datamodel.html#the-standard-type-hierarchy)\n",
    "    1. numerics, sequences, mappings, classes, instances and exceptions\n",
    "    1."
   ]
  },
  {
   "cell_type": "code",
   "execution_count": 1,
   "metadata": {},
   "outputs": [
    {
     "data": {
      "text/plain": [
       "False"
      ]
     },
     "execution_count": 1,
     "metadata": {},
     "output_type": "execute_result"
    }
   ],
   "source": [
    "5 == 3"
   ]
  },
  {
   "cell_type": "code",
   "execution_count": 5,
   "metadata": {},
   "outputs": [],
   "source": [
    "a_var = 1"
   ]
  },
  {
   "cell_type": "code",
   "execution_count": 6,
   "metadata": {},
   "outputs": [],
   "source": [
    "a_var = \"str\""
   ]
  },
  {
   "cell_type": "code",
   "execution_count": null,
   "metadata": {},
   "outputs": [],
   "source": [
    "type(7.9)"
   ]
  },
  {
   "cell_type": "code",
   "execution_count": null,
   "metadata": {},
   "outputs": [],
   "source": [
    "user_name = input(\"Inter your name: \")\n",
    "print(\"Hello \" + user_name)"
   ]
  },
  {
   "cell_type": "code",
   "execution_count": 8,
   "metadata": {},
   "outputs": [
    {
     "data": {
      "text/plain": [
       "str"
      ]
     },
     "execution_count": 8,
     "metadata": {},
     "output_type": "execute_result"
    }
   ],
   "source": [
    "type(user_name)"
   ]
  },
  {
   "cell_type": "code",
   "execution_count": null,
   "metadata": {},
   "outputs": [],
   "source": [
    "a = 1\n",
    "b = '1'\n",
    "type(b)\n",
    "a + int(b)\n",
    "age = input()\n",
    "type(age)"
   ]
  },
  {
   "cell_type": "markdown",
   "metadata": {},
   "source": [
    "## Как посмотреть тип?\n",
    "\n",
    "```python\n",
    "type()\n",
    "```"
   ]
  },
  {
   "cell_type": "code",
   "execution_count": 11,
   "metadata": {},
   "outputs": [],
   "source": [
    "a = 1000034033789324923679837632_4873_4_20_987_324_5454555635633_4545454645453_55_453_453_435"
   ]
  },
  {
   "cell_type": "code",
   "execution_count": null,
   "metadata": {},
   "outputs": [],
   "source": [
    "b = '3'"
   ]
  },
  {
   "cell_type": "code",
   "execution_count": null,
   "metadata": {},
   "outputs": [],
   "source": [
    "type(b)"
   ]
  },
  {
   "cell_type": "code",
   "execution_count": 12,
   "metadata": {},
   "outputs": [
    {
     "ename": "NameError",
     "evalue": "name 'b' is not defined",
     "output_type": "error",
     "traceback": [
      "\u001b[0;31m---------------------------------------------------------------------------\u001b[0m",
      "\u001b[0;31mNameError\u001b[0m                                 Traceback (most recent call last)",
      "Input \u001b[0;32mIn [12]\u001b[0m, in \u001b[0;36m<cell line: 1>\u001b[0;34m()\u001b[0m\n\u001b[0;32m----> 1\u001b[0m a \u001b[38;5;241m+\u001b[39m \u001b[43mb\u001b[49m\n",
      "\u001b[0;31mNameError\u001b[0m: name 'b' is not defined"
     ]
    }
   ],
   "source": [
    "a + b"
   ]
  },
  {
   "cell_type": "code",
   "execution_count": null,
   "metadata": {},
   "outputs": [],
   "source": [
    "id(a)"
   ]
  },
  {
   "cell_type": "code",
   "execution_count": null,
   "metadata": {},
   "outputs": [],
   "source": [
    "int('2'+'1')"
   ]
  },
  {
   "cell_type": "code",
   "execution_count": null,
   "metadata": {},
   "outputs": [],
   "source": [
    "a = 5\n",
    "b = a\n",
    "print(id(b))\n",
    "b = 2\n",
    "print(id(b))\n",
    "print(a, b)"
   ]
  },
  {
   "cell_type": "code",
   "execution_count": 13,
   "metadata": {},
   "outputs": [
    {
     "name": "stdout",
     "output_type": "stream",
     "text": [
      "5\n"
     ]
    }
   ],
   "source": [
    "a = 5\n",
    "print(a)"
   ]
  },
  {
   "cell_type": "code",
   "execution_count": 14,
   "metadata": {},
   "outputs": [
    {
     "data": {
      "text/plain": [
       "140181639938416"
      ]
     },
     "execution_count": 14,
     "metadata": {},
     "output_type": "execute_result"
    }
   ],
   "source": [
    "id(a)"
   ]
  },
  {
   "cell_type": "code",
   "execution_count": 15,
   "metadata": {},
   "outputs": [],
   "source": [
    "b = 7"
   ]
  },
  {
   "cell_type": "code",
   "execution_count": 16,
   "metadata": {},
   "outputs": [
    {
     "data": {
      "text/plain": [
       "140181639938480"
      ]
     },
     "execution_count": 16,
     "metadata": {},
     "output_type": "execute_result"
    }
   ],
   "source": [
    "id(b)"
   ]
  },
  {
   "cell_type": "code",
   "execution_count": 17,
   "metadata": {},
   "outputs": [],
   "source": [
    "b = 10"
   ]
  },
  {
   "cell_type": "code",
   "execution_count": 18,
   "metadata": {},
   "outputs": [
    {
     "data": {
      "text/plain": [
       "140181639938576"
      ]
     },
     "execution_count": 18,
     "metadata": {},
     "output_type": "execute_result"
    }
   ],
   "source": [
    "id(b)"
   ]
  },
  {
   "cell_type": "code",
   "execution_count": null,
   "metadata": {},
   "outputs": [],
   "source": [
    "s = 10\n",
    "id(s)"
   ]
  },
  {
   "cell_type": "code",
   "execution_count": null,
   "metadata": {},
   "outputs": [],
   "source": [
    "d = 10\n",
    "id(d)"
   ]
  },
  {
   "cell_type": "code",
   "execution_count": null,
   "metadata": {},
   "outputs": [],
   "source": [
    "s = 'sss'\n",
    "id(s)"
   ]
  },
  {
   "cell_type": "code",
   "execution_count": null,
   "metadata": {},
   "outputs": [],
   "source": [
    "id(d)"
   ]
  },
  {
   "cell_type": "code",
   "execution_count": null,
   "metadata": {},
   "outputs": [],
   "source": [
    "type(s)"
   ]
  },
  {
   "cell_type": "code",
   "execution_count": 19,
   "metadata": {},
   "outputs": [
    {
     "data": {
      "text/plain": [
       "float"
      ]
     },
     "execution_count": 19,
     "metadata": {},
     "output_type": "execute_result"
    }
   ],
   "source": [
    "type(2.0134879547839886798509956908609834)"
   ]
  },
  {
   "cell_type": "code",
   "execution_count": null,
   "metadata": {},
   "outputs": [],
   "source": [
    "e = 1\n",
    "id(e)"
   ]
  },
  {
   "cell_type": "code",
   "execution_count": null,
   "metadata": {},
   "outputs": [],
   "source": [
    "f = e\n",
    "id(f)"
   ]
  },
  {
   "cell_type": "code",
   "execution_count": null,
   "metadata": {},
   "outputs": [],
   "source": [
    "f = 7"
   ]
  },
  {
   "cell_type": "code",
   "execution_count": null,
   "metadata": {},
   "outputs": [],
   "source": [
    "id(f)"
   ]
  },
  {
   "cell_type": "code",
   "execution_count": null,
   "metadata": {},
   "outputs": [],
   "source": [
    "id(e)"
   ]
  },
  {
   "cell_type": "code",
   "execution_count": 20,
   "metadata": {},
   "outputs": [
    {
     "data": {
      "text/plain": [
       "complex"
      ]
     },
     "execution_count": 20,
     "metadata": {},
     "output_type": "execute_result"
    }
   ],
   "source": [
    "type(14+0j)"
   ]
  },
  {
   "cell_type": "markdown",
   "metadata": {
    "nbpresent": {
     "id": "5067edfe-e6ca-47e3-a1bc-4b8ceba70c16"
    }
   },
   "source": [
    "###  Числа\n",
    "\n",
    "\n",
    "| Тип              | Пример   |\n",
    "| ---------------- | ---------|\n",
    "| Integer          | 42       |\n",
    "| Integer (Hex)    | 0xA      |\n",
    "| Integer (Binary) | 0b110101 |\n",
    "| Float            | 2.7182   |\n",
    "| Float            | 1.4e3    |\n",
    "| Complex          | 14+0j    |\n",
    "| Underscore       | 100_000  |\n"
   ]
  },
  {
   "cell_type": "code",
   "execution_count": 21,
   "metadata": {},
   "outputs": [
    {
     "name": "stdout",
     "output_type": "stream",
     "text": [
      "100123000\n"
     ]
    }
   ],
   "source": [
    "# длинные числовые литералы соединяются через _ с версии 3.6\n",
    "big_amount = 100_123_000\n",
    "print(big_amount)"
   ]
  },
  {
   "cell_type": "code",
   "execution_count": 22,
   "metadata": {},
   "outputs": [
    {
     "data": {
      "text/plain": [
       "101236830428541213083725078643473567582389552126649000000000000000000000000000000"
      ]
     },
     "execution_count": 22,
     "metadata": {},
     "output_type": "execute_result"
    }
   ],
   "source": [
    "# целые числа могут быть длинными\n",
    "big_amount ** 10"
   ]
  },
  {
   "cell_type": "code",
   "execution_count": 23,
   "metadata": {},
   "outputs": [
    {
     "data": {
      "text/plain": [
       "int"
      ]
     },
     "execution_count": 23,
     "metadata": {},
     "output_type": "execute_result"
    }
   ],
   "source": [
    "type(big_amount)"
   ]
  },
  {
   "cell_type": "code",
   "execution_count": 24,
   "metadata": {},
   "outputs": [
    {
     "data": {
      "text/plain": [
       "float"
      ]
     },
     "execution_count": 24,
     "metadata": {},
     "output_type": "execute_result"
    }
   ],
   "source": [
    "type(3.14)"
   ]
  },
  {
   "cell_type": "code",
   "execution_count": null,
   "metadata": {},
   "outputs": [],
   "source": [
    "a += 1"
   ]
  },
  {
   "cell_type": "markdown",
   "metadata": {
    "nbpresent": {
     "id": "c386aa9d-f8b1-4477-8ede-d0e2214a10ff"
    }
   },
   "source": [
    "| Операция     | Результат          |\n",
    "| ----------- | ---------------- |  \n",
    "| num + num2  | Сложение          |\n",
    "| num - num2  | Вычитание         |\n",
    "| num == num2 | Равенство          |\n",
    "| num != num2 | Неравенство        |\n",
    "| num >= num2 | Больше-равно       |\n",
    "| num > num2  | Больше            |\n",
    "| num * num2  | Умножение         |\n",
    "| num / num2  | Деление            |\n",
    "| num // num2 | Целочисленное деление |\n",
    "| num % num2  | Остаток от деления             |\n",
    "| num ** num2 | Степень            |\n"
   ]
  },
  {
   "cell_type": "markdown",
   "metadata": {},
   "source": [
    "# Приоритет операций min -> max\n",
    "\n",
    "|Operator|Description|\n",
    "|--------|-----------|\n",
    "|lambda|Lambda expression|\n",
    "|if – else|Conditional expression|\n",
    "|or\t|Boolean OR|\n",
    "|and|Boolean AND|\n",
    "|not x|Boolean NOT|\n",
    "|in, not in, is, is not, <, <=, >, >=, !=, ==\t|Comparisons, including membership tests and identity tests|\n",
    "| &#124;|Bitwise OR|\n",
    "|^|\tBitwise XOR|\n",
    "|&|\tBitwise AND|\n",
    "|<<, >>\t|Shifts|\n",
    "|+, -\t|Addition and subtraction|\n",
    "|*, @, /, //, %\t|Multiplication, matrix multiplication, division, floor division, remainder [5]|\n",
    "|+x, -x, ~x\t|Positive, negative, bitwise NOT|\n",
    "|**\t|Exponentiation [6]|\n",
    "|await x\t|Await expression|\n",
    "|x[index], x[index:index], x(arguments...), x.attribute\t|Subscription, slicing, call, attribute reference|\n",
    "|(expressions...), [expressions...], {key: value...}, {expressions...}\t|Binding or tuple display, list display, dictionary display, set display|"
   ]
  },
  {
   "cell_type": "code",
   "execution_count": 30,
   "metadata": {},
   "outputs": [
    {
     "data": {
      "text/plain": [
       "2.0"
      ]
     },
     "execution_count": 30,
     "metadata": {},
     "output_type": "execute_result"
    }
   ],
   "source": [
    "type(6 / 3)\n",
    "6/3"
   ]
  },
  {
   "cell_type": "code",
   "execution_count": 27,
   "metadata": {},
   "outputs": [
    {
     "name": "stdout",
     "output_type": "stream",
     "text": [
      "2.345\n"
     ]
    },
    {
     "data": {
      "text/plain": [
       "str"
      ]
     },
     "execution_count": 27,
     "metadata": {},
     "output_type": "execute_result"
    }
   ],
   "source": [
    "d = input()\n",
    "type(d)"
   ]
  },
  {
   "cell_type": "code",
   "execution_count": null,
   "metadata": {},
   "outputs": [],
   "source": [
    "a"
   ]
  },
  {
   "cell_type": "code",
   "execution_count": 31,
   "metadata": {},
   "outputs": [
    {
     "name": "stdout",
     "output_type": "stream",
     "text": [
      "2 <class 'int'>\n"
     ]
    }
   ],
   "source": [
    "a = 7 // 3\n",
    "print(a, type(a))"
   ]
  },
  {
   "cell_type": "code",
   "execution_count": 32,
   "metadata": {},
   "outputs": [
    {
     "name": "stdout",
     "output_type": "stream",
     "text": [
      "333<->4<->55<->eeee!"
     ]
    }
   ],
   "source": [
    "print(\"333\", 4, 55,  \"eeee\", sep=\"<->\", end=\"!\")"
   ]
  },
  {
   "cell_type": "code",
   "execution_count": 33,
   "metadata": {},
   "outputs": [
    {
     "name": "stdout",
     "output_type": "stream",
     "text": [
      "0.30000000000000004\n"
     ]
    }
   ],
   "source": [
    "print(0.1 + 0.2) # 0.30000000000000004"
   ]
  },
  {
   "cell_type": "code",
   "execution_count": null,
   "metadata": {},
   "outputs": [],
   "source": []
  },
  {
   "cell_type": "code",
   "execution_count": 34,
   "metadata": {},
   "outputs": [],
   "source": [
    "from decimal import Decimal\n",
    "dec = Decimal('0.1') + Decimal('0.2') - Decimal('0.3')"
   ]
  },
  {
   "cell_type": "code",
   "execution_count": 35,
   "metadata": {},
   "outputs": [
    {
     "name": "stdout",
     "output_type": "stream",
     "text": [
      "0.0\n"
     ]
    }
   ],
   "source": [
    "print(dec)"
   ]
  },
  {
   "cell_type": "code",
   "execution_count": 36,
   "metadata": {},
   "outputs": [
    {
     "data": {
      "text/plain": [
       "5.551115123125783e-17"
      ]
     },
     "execution_count": 36,
     "metadata": {},
     "output_type": "execute_result"
    }
   ],
   "source": [
    "0.1 + 0.2 - 0.3"
   ]
  },
  {
   "cell_type": "code",
   "execution_count": null,
   "metadata": {},
   "outputs": [],
   "source": [
    "type(dec)"
   ]
  },
  {
   "cell_type": "markdown",
   "metadata": {},
   "source": [
    "# Переменные и типы"
   ]
  },
  {
   "cell_type": "code",
   "execution_count": null,
   "metadata": {},
   "outputs": [],
   "source": [
    "my_greeting = 123\n",
    "print(my_greeting)"
   ]
  },
  {
   "cell_type": "code",
   "execution_count": 42,
   "metadata": {},
   "outputs": [],
   "source": [
    "my_greeting = 123"
   ]
  },
  {
   "cell_type": "code",
   "execution_count": 43,
   "metadata": {},
   "outputs": [
    {
     "data": {
      "text/plain": [
       "140181639942192"
      ]
     },
     "execution_count": 43,
     "metadata": {},
     "output_type": "execute_result"
    }
   ],
   "source": [
    "id(my_greeting)"
   ]
  },
  {
   "cell_type": "code",
   "execution_count": 47,
   "metadata": {},
   "outputs": [],
   "source": [
    "my_greeting = 321"
   ]
  },
  {
   "cell_type": "code",
   "execution_count": 48,
   "metadata": {},
   "outputs": [
    {
     "data": {
      "text/plain": [
       "321"
      ]
     },
     "execution_count": 48,
     "metadata": {},
     "output_type": "execute_result"
    }
   ],
   "source": [
    "my_greeting"
   ]
  },
  {
   "cell_type": "code",
   "execution_count": 49,
   "metadata": {},
   "outputs": [],
   "source": [
    "your_greeting = my_greeting"
   ]
  },
  {
   "cell_type": "code",
   "execution_count": 50,
   "metadata": {},
   "outputs": [
    {
     "data": {
      "text/plain": [
       "140181425816656"
      ]
     },
     "execution_count": 50,
     "metadata": {},
     "output_type": "execute_result"
    }
   ],
   "source": [
    "id(my_greeting)"
   ]
  },
  {
   "cell_type": "code",
   "execution_count": 53,
   "metadata": {},
   "outputs": [
    {
     "data": {
      "text/plain": [
       "140181425817072"
      ]
     },
     "execution_count": 53,
     "metadata": {},
     "output_type": "execute_result"
    }
   ],
   "source": [
    "id(your_greeting)"
   ]
  },
  {
   "cell_type": "code",
   "execution_count": null,
   "metadata": {},
   "outputs": [],
   "source": [
    "your_greeting = 444"
   ]
  },
  {
   "cell_type": "code",
   "execution_count": null,
   "metadata": {},
   "outputs": [],
   "source": [
    "True = 7"
   ]
  },
  {
   "cell_type": "code",
   "execution_count": null,
   "metadata": {},
   "outputs": [],
   "source": [
    "# старое значение уже выкинули из памяти\n",
    "a = 123\n",
    "print(a)"
   ]
  },
  {
   "cell_type": "code",
   "execution_count": 54,
   "metadata": {},
   "outputs": [
    {
     "ename": "TypeError",
     "evalue": "can only concatenate str (not \"int\") to str",
     "output_type": "error",
     "traceback": [
      "\u001b[0;31m---------------------------------------------------------------------------\u001b[0m",
      "\u001b[0;31mTypeError\u001b[0m                                 Traceback (most recent call last)",
      "Input \u001b[0;32mIn [54]\u001b[0m, in \u001b[0;36m<cell line: 2>\u001b[0;34m()\u001b[0m\n\u001b[1;32m      1\u001b[0m \u001b[38;5;66;03m# динамическая сильная типизация\u001b[39;00m\n\u001b[0;32m----> 2\u001b[0m \u001b[38;5;28mprint\u001b[39m(\u001b[38;5;124;43m\"\u001b[39;49m\u001b[38;5;124;43msum is \u001b[39;49m\u001b[38;5;124;43m\"\u001b[39;49m\u001b[43m \u001b[49m\u001b[38;5;241;43m+\u001b[39;49m\u001b[43m \u001b[49m\u001b[38;5;241;43m100\u001b[39;49m)\n",
      "\u001b[0;31mTypeError\u001b[0m: can only concatenate str (not \"int\") to str"
     ]
    }
   ],
   "source": [
    "# динамическая сильная типизация\n",
    "print(\"sum is \" + 100)"
   ]
  },
  {
   "cell_type": "code",
   "execution_count": 57,
   "metadata": {},
   "outputs": [
    {
     "data": {
      "text/plain": [
       "int"
      ]
     },
     "execution_count": 57,
     "metadata": {},
     "output_type": "execute_result"
    }
   ],
   "source": [
    "type(int(float('1.6')))"
   ]
  },
  {
   "cell_type": "code",
   "execution_count": 62,
   "metadata": {},
   "outputs": [
    {
     "data": {
      "text/plain": [
       "int"
      ]
     },
     "execution_count": 62,
     "metadata": {},
     "output_type": "execute_result"
    }
   ],
   "source": [
    "type(int(float('1.6')))"
   ]
  },
  {
   "cell_type": "code",
   "execution_count": null,
   "metadata": {},
   "outputs": [],
   "source": [
    "int(float('1.6'))"
   ]
  },
  {
   "cell_type": "code",
   "execution_count": null,
   "metadata": {},
   "outputs": [],
   "source": [
    "round(-1.5, )"
   ]
  },
  {
   "cell_type": "code",
   "execution_count": 63,
   "metadata": {},
   "outputs": [
    {
     "name": "stdout",
     "output_type": "stream",
     "text": [
      "Help on built-in function round in module builtins:\n",
      "\n",
      "round(number, ndigits=None)\n",
      "    Round a number to a given precision in decimal digits.\n",
      "    \n",
      "    The return value is an integer if ndigits is omitted or None.  Otherwise\n",
      "    the return value has the same type as the number.  ndigits may be negative.\n",
      "\n"
     ]
    }
   ],
   "source": [
    "help(round)"
   ]
  },
  {
   "cell_type": "code",
   "execution_count": 64,
   "metadata": {},
   "outputs": [
    {
     "name": "stdout",
     "output_type": "stream",
     "text": [
      "sum is 100\n"
     ]
    }
   ],
   "source": [
    "print('sum is ' + str(100))"
   ]
  },
  {
   "cell_type": "code",
   "execution_count": null,
   "metadata": {},
   "outputs": [],
   "source": [
    "height = float(input(\"Input your height: \"))\n",
    "height = height * 2\n",
    "print(height)"
   ]
  },
  {
   "cell_type": "markdown",
   "metadata": {},
   "source": [
    "# Строки"
   ]
  },
  {
   "cell_type": "markdown",
   "metadata": {
    "nbpresent": {
     "id": "5e3c8a8f-29c0-4dd7-834e-4b740d132940"
    }
   },
   "source": [
    "| Тип         | Пример       |\n",
    "| ----------- | ----------- |\n",
    "| Строка       | 'hello'     |\n",
    "| Строка       | \"hello\"     |\n",
    "| Строка       | '''hello''' |\n",
    "| Raw string  | r'hello'    |\n",
    "| Byte string | b'hello'    |"
   ]
  },
  {
   "cell_type": "code",
   "execution_count": 67,
   "metadata": {},
   "outputs": [
    {
     "name": "stdout",
     "output_type": "stream",
     "text": [
      "\"London\" is the capital  of Great Britain\n"
     ]
    }
   ],
   "source": [
    "ddd = '\"London\" is the capital  of Great Britain'\n",
    "print(ddd)"
   ]
  },
  {
   "cell_type": "code",
   "execution_count": 68,
   "metadata": {},
   "outputs": [
    {
     "name": "stdout",
     "output_type": "stream",
     "text": [
      "ddd\"\n"
     ]
    }
   ],
   "source": [
    "s = \"\\\"\"\n",
    "print(\"ddd\" + s)"
   ]
  },
  {
   "cell_type": "code",
   "execution_count": 69,
   "metadata": {},
   "outputs": [
    {
     "name": "stdout",
     "output_type": "stream",
     "text": [
      "\"\n"
     ]
    }
   ],
   "source": [
    "print(s)"
   ]
  },
  {
   "cell_type": "code",
   "execution_count": 70,
   "metadata": {},
   "outputs": [
    {
     "data": {
      "text/plain": [
       "str"
      ]
     },
     "execution_count": 70,
     "metadata": {},
     "output_type": "execute_result"
    }
   ],
   "source": [
    "type(s)"
   ]
  },
  {
   "cell_type": "code",
   "execution_count": 71,
   "metadata": {},
   "outputs": [
    {
     "name": "stdout",
     "output_type": "stream",
     "text": [
      "\"Python\" is the capital of Great Britain\n"
     ]
    }
   ],
   "source": [
    "print('\"Python\" is the capital of Great Britain')"
   ]
  },
  {
   "cell_type": "code",
   "execution_count": 73,
   "metadata": {},
   "outputs": [
    {
     "name": "stdout",
     "output_type": "stream",
     "text": [
      "hi \n",
      "   there\t\tssss\n"
     ]
    }
   ],
   "source": [
    "print('hi \\n   there\\t\\tssss')"
   ]
  },
  {
   "cell_type": "code",
   "execution_count": 76,
   "metadata": {},
   "outputs": [
    {
     "name": "stdout",
     "output_type": "stream",
     "text": [
      "hi \\n   there\\tssss\n"
     ]
    }
   ],
   "source": [
    "print('hi \\\\n   there\\\\tssss')"
   ]
  },
  {
   "cell_type": "code",
   "execution_count": 74,
   "metadata": {},
   "outputs": [
    {
     "name": "stdout",
     "output_type": "stream",
     "text": [
      "hi \\n\"\"\"\"\"\"\"\\t\"\"\"\"\"\"\"\"\" \"there\n"
     ]
    }
   ],
   "source": [
    "print(r'hi \\n\"\"\"\"\"\"\"\\t\"\"\"\"\"\"\"\"\" \"there')"
   ]
  },
  {
   "cell_type": "code",
   "execution_count": 77,
   "metadata": {
    "nbpresent": {
     "id": "eeea9590-0b4a-4768-88c9-4a8bf2dc9c01"
    }
   },
   "outputs": [
    {
     "name": "stdout",
     "output_type": "stream",
     "text": [
      "Курс Python ✌ Programming\n"
     ]
    }
   ],
   "source": [
    "course_name = 'Курс Python ✌ Programming'  # строки в Python 3 — Unicode\n",
    "print(course_name)"
   ]
  },
  {
   "cell_type": "code",
   "execution_count": 78,
   "metadata": {},
   "outputs": [],
   "source": [
    "переменная = \"Text\""
   ]
  },
  {
   "cell_type": "code",
   "execution_count": 79,
   "metadata": {},
   "outputs": [
    {
     "data": {
      "text/plain": [
       "'Text'"
      ]
     },
     "execution_count": 79,
     "metadata": {},
     "output_type": "execute_result"
    }
   ],
   "source": [
    "переменная"
   ]
  },
  {
   "cell_type": "code",
   "execution_count": null,
   "metadata": {},
   "outputs": [],
   "source": [
    "long_string += 'aaaaa'"
   ]
  },
  {
   "cell_type": "code",
   "execution_count": 1,
   "metadata": {},
   "outputs": [
    {
     "ename": "NameError",
     "evalue": "name 'long_string' is not defined",
     "output_type": "error",
     "traceback": [
      "\u001b[0;31m---------------------------------------------------------------------------\u001b[0m",
      "\u001b[0;31mNameError\u001b[0m                                 Traceback (most recent call last)",
      "Input \u001b[0;32mIn [1]\u001b[0m, in \u001b[0;36m<cell line: 1>\u001b[0;34m()\u001b[0m\n\u001b[0;32m----> 1\u001b[0m long_string \u001b[38;5;241m=\u001b[39m \u001b[43mlong_string\u001b[49m \u001b[38;5;241m+\u001b[39m \u001b[38;5;124m'\u001b[39m\u001b[38;5;124maaaaa\u001b[39m\u001b[38;5;124m'\u001b[39m\n",
      "\u001b[0;31mNameError\u001b[0m: name 'long_string' is not defined"
     ]
    }
   ],
   "source": [
    "long_string = long_string + 'aaaaa'"
   ]
  },
  {
   "cell_type": "code",
   "execution_count": 83,
   "metadata": {},
   "outputs": [
    {
     "name": "stdout",
     "output_type": "stream",
     "text": [
      "Perl — это тот язык, который одинаково выглядит как до, так и после RSA шифрования.(Keith Bostic)\n",
      "\n",
      "    Обычно в таких кавычках\n",
      "    пишут докстринги к функциям\n",
      "\n"
     ]
    }
   ],
   "source": [
    "long_string = \"Perl — это тот язык, который одинаково \"\\\n",
    "              \"выглядит как до, так и после RSA шифрования.\" \\\n",
    "              \"(Keith Bostic)\"\n",
    "print(long_string)\n",
    "long_string = \"\"\"\n",
    "    Обычно в таких кавычках\n",
    "    пишут докстринги к функциям\n",
    "\"\"\"\n",
    "print(long_string)"
   ]
  },
  {
   "cell_type": "code",
   "execution_count": 85,
   "metadata": {},
   "outputs": [
    {
     "data": {
      "text/plain": [
       "22863"
      ]
     },
     "execution_count": 85,
     "metadata": {},
     "output_type": "execute_result"
    }
   ],
   "source": [
    "# Перенос строк нужен также для очень длинных выражений\n",
    "3 * (5 + 6) - 45 * (60 - 9) + 123 * (544 - 450)\\\n",
    " + 65 * (56 + 23) + 98 * (3 ** 4 + 5)"
   ]
  },
  {
   "cell_type": "markdown",
   "metadata": {},
   "source": [
    "| Операция     | Результат        |\n",
    "| ------------| -------------- |  \n",
    "| s + s2      | Сложение        |\n",
    "| 'foo' in s2 | Вхождение       |\n",
    "| s == s2     | Равенство        |\n",
    "| s != s2     | Неравенство      |\n",
    "| s >= s2     | Больше-равно     |\n",
    "| s > s2      | Больше          |\n",
    "| s * num     | Повторение|\n",
    "| s[0]        | Доступ по индексу |\n",
    "| len(s)      | Длина           |\n",
    "\n"
   ]
  },
  {
   "cell_type": "code",
   "execution_count": 86,
   "metadata": {},
   "outputs": [
    {
     "data": {
      "text/plain": [
       "'one Text two'"
      ]
     },
     "execution_count": 86,
     "metadata": {},
     "output_type": "execute_result"
    }
   ],
   "source": [
    "'one ' + переменная + ' two'"
   ]
  },
  {
   "cell_type": "code",
   "execution_count": 87,
   "metadata": {},
   "outputs": [
    {
     "data": {
      "text/plain": [
       "'one one one one one one one one one one '"
      ]
     },
     "execution_count": 87,
     "metadata": {},
     "output_type": "execute_result"
    }
   ],
   "source": [
    "'one ' * 10"
   ]
  },
  {
   "cell_type": "code",
   "execution_count": 88,
   "metadata": {},
   "outputs": [],
   "source": [
    "s1 = \"asd\"\n",
    "s2 = s1"
   ]
  },
  {
   "cell_type": "code",
   "execution_count": 89,
   "metadata": {},
   "outputs": [],
   "source": [
    "s1 = s1 + \"a\"\n",
    "s1 += \"a\""
   ]
  },
  {
   "cell_type": "code",
   "execution_count": null,
   "metadata": {},
   "outputs": [],
   "source": [
    "s1"
   ]
  },
  {
   "cell_type": "code",
   "execution_count": 90,
   "metadata": {},
   "outputs": [
    {
     "ename": "TypeError",
     "evalue": "unsupported operand type(s) for -: 'str' and 'str'",
     "output_type": "error",
     "traceback": [
      "\u001b[0;31m---------------------------------------------------------------------------\u001b[0m",
      "\u001b[0;31mTypeError\u001b[0m                                 Traceback (most recent call last)",
      "Input \u001b[0;32mIn [90]\u001b[0m, in \u001b[0;36m<cell line: 3>\u001b[0;34m()\u001b[0m\n\u001b[1;32m      1\u001b[0m s1 \u001b[38;5;241m=\u001b[39m \u001b[38;5;124m\"\u001b[39m\u001b[38;5;124mAAAA\u001b[39m\u001b[38;5;124m\"\u001b[39m\n\u001b[1;32m      2\u001b[0m s2 \u001b[38;5;241m=\u001b[39m \u001b[38;5;124m\"\u001b[39m\u001b[38;5;124mABAA\u001b[39m\u001b[38;5;124m\"\u001b[39m\n\u001b[0;32m----> 3\u001b[0m \u001b[43ms1\u001b[49m\u001b[43m \u001b[49m\u001b[38;5;241;43m-\u001b[39;49m\u001b[43m \u001b[49m\u001b[43ms2\u001b[49m\n",
      "\u001b[0;31mTypeError\u001b[0m: unsupported operand type(s) for -: 'str' and 'str'"
     ]
    }
   ],
   "source": [
    "s1 = \"AAAA\"\n",
    "s2 = \"ABAA\"\n",
    "s1 - s2"
   ]
  },
  {
   "cell_type": "code",
   "execution_count": 91,
   "metadata": {},
   "outputs": [
    {
     "name": "stdout",
     "output_type": "stream",
     "text": [
      "Help on built-in function round in module builtins:\n",
      "\n",
      "round(number, ndigits=None)\n",
      "    Round a number to a given precision in decimal digits.\n",
      "    \n",
      "    The return value is an integer if ndigits is omitted or None.  Otherwise\n",
      "    the return value has the same type as the number.  ndigits may be negative.\n",
      "\n"
     ]
    }
   ],
   "source": [
    "hepl = help\n",
    "hepl(round)"
   ]
  },
  {
   "cell_type": "code",
   "execution_count": 94,
   "metadata": {},
   "outputs": [
    {
     "data": {
      "text/plain": [
       "True"
      ]
     },
     "execution_count": 94,
     "metadata": {},
     "output_type": "execute_result"
    }
   ],
   "source": [
    "'AA' in s1"
   ]
  },
  {
   "cell_type": "code",
   "execution_count": 93,
   "metadata": {},
   "outputs": [
    {
     "data": {
      "text/plain": [
       "'AAAA'"
      ]
     },
     "execution_count": 93,
     "metadata": {},
     "output_type": "execute_result"
    }
   ],
   "source": [
    "s1"
   ]
  },
  {
   "cell_type": "code",
   "execution_count": 95,
   "metadata": {},
   "outputs": [],
   "source": [
    "long_string = 'ABCDEFGHIJK'"
   ]
  },
  {
   "cell_type": "code",
   "execution_count": 101,
   "metadata": {},
   "outputs": [
    {
     "data": {
      "text/plain": [
       "'J'"
      ]
     },
     "execution_count": 101,
     "metadata": {},
     "output_type": "execute_result"
    }
   ],
   "source": [
    "long_string[-2]"
   ]
  },
  {
   "cell_type": "code",
   "execution_count": 102,
   "metadata": {},
   "outputs": [
    {
     "data": {
      "text/plain": [
       "'BCDE'"
      ]
     },
     "execution_count": 102,
     "metadata": {},
     "output_type": "execute_result"
    }
   ],
   "source": [
    "long_string[1:5]"
   ]
  },
  {
   "cell_type": "code",
   "execution_count": 103,
   "metadata": {},
   "outputs": [
    {
     "ename": "NameError",
     "evalue": "name 'f' is not defined",
     "output_type": "error",
     "traceback": [
      "\u001b[0;31m---------------------------------------------------------------------------\u001b[0m",
      "\u001b[0;31mNameError\u001b[0m                                 Traceback (most recent call last)",
      "Input \u001b[0;32mIn [103]\u001b[0m, in \u001b[0;36m<cell line: 1>\u001b[0;34m()\u001b[0m\n\u001b[0;32m----> 1\u001b[0m \u001b[43mf\u001b[49m\n",
      "\u001b[0;31mNameError\u001b[0m: name 'f' is not defined"
     ]
    }
   ],
   "source": [
    "f"
   ]
  },
  {
   "cell_type": "code",
   "execution_count": 104,
   "metadata": {},
   "outputs": [
    {
     "data": {
      "text/plain": [
       "'DEFGHIJKDE'"
      ]
     },
     "execution_count": 104,
     "metadata": {},
     "output_type": "execute_result"
    }
   ],
   "source": [
    "long_string[3:] + long_string[3:5]"
   ]
  },
  {
   "cell_type": "code",
   "execution_count": 105,
   "metadata": {},
   "outputs": [
    {
     "data": {
      "text/plain": [
       "''"
      ]
     },
     "execution_count": 105,
     "metadata": {},
     "output_type": "execute_result"
    }
   ],
   "source": [
    "s1[0:0]"
   ]
  },
  {
   "cell_type": "code",
   "execution_count": 106,
   "metadata": {},
   "outputs": [],
   "source": [
    "the_str = \"11111 1111\"\n",
    "a_str = the_str[0:5] + '3' + the_str[6:]"
   ]
  },
  {
   "cell_type": "code",
   "execution_count": 107,
   "metadata": {},
   "outputs": [
    {
     "data": {
      "text/plain": [
       "'1111131111'"
      ]
     },
     "execution_count": 107,
     "metadata": {},
     "output_type": "execute_result"
    }
   ],
   "source": [
    "a_str"
   ]
  },
  {
   "cell_type": "code",
   "execution_count": 108,
   "metadata": {
    "nbpresent": {
     "id": "3210b3d4-e72a-4559-81e9-9d4857489ddc"
    }
   },
   "outputs": [
    {
     "name": "stdout",
     "output_type": "stream",
     "text": [
      "hon\n"
     ]
    }
   ],
   "source": [
    "print('python'[3:])"
   ]
  },
  {
   "cell_type": "code",
   "execution_count": 109,
   "metadata": {
    "nbpresent": {
     "id": "fd68431d-d6ed-4527-b4c2-a4b69da9c02e"
    }
   },
   "outputs": [
    {
     "data": {
      "text/plain": [
       "6"
      ]
     },
     "execution_count": 109,
     "metadata": {},
     "output_type": "execute_result"
    }
   ],
   "source": [
    "len('python')"
   ]
  },
  {
   "cell_type": "code",
   "execution_count": 110,
   "metadata": {},
   "outputs": [
    {
     "data": {
      "text/plain": [
       "'python'"
      ]
     },
     "execution_count": 110,
     "metadata": {},
     "output_type": "execute_result"
    }
   ],
   "source": [
    "'python'[:]"
   ]
  },
  {
   "cell_type": "code",
   "execution_count": null,
   "metadata": {},
   "outputs": [],
   "source": [
    "'python'[2:5]"
   ]
  },
  {
   "cell_type": "code",
   "execution_count": 111,
   "metadata": {},
   "outputs": [
    {
     "data": {
      "text/plain": [
       "'o'"
      ]
     },
     "execution_count": 111,
     "metadata": {},
     "output_type": "execute_result"
    }
   ],
   "source": [
    "'python'[-2:-1]"
   ]
  },
  {
   "cell_type": "code",
   "execution_count": 112,
   "metadata": {},
   "outputs": [
    {
     "name": "stdout",
     "output_type": "stream",
     "text": [
      "pyt\n"
     ]
    }
   ],
   "source": [
    "a = 'python'\n",
    "print(a[:3]+a[6:])"
   ]
  },
  {
   "cell_type": "code",
   "execution_count": 113,
   "metadata": {},
   "outputs": [
    {
     "data": {
      "text/plain": [
       "'nohtyp'"
      ]
     },
     "execution_count": 113,
     "metadata": {},
     "output_type": "execute_result"
    }
   ],
   "source": [
    "'python'[::-1]"
   ]
  },
  {
   "cell_type": "code",
   "execution_count": null,
   "metadata": {},
   "outputs": [],
   "source": [
    "a = 'python ghgh dswkjdsk asdjuoidsku jsdks'"
   ]
  },
  {
   "cell_type": "code",
   "execution_count": null,
   "metadata": {},
   "outputs": [],
   "source": []
  },
  {
   "cell_type": "code",
   "execution_count": 116,
   "metadata": {},
   "outputs": [
    {
     "name": "stdout",
     "output_type": "stream",
     "text": [
      "b'pyhton'\n"
     ]
    }
   ],
   "source": [
    "byte_string = b'pyhton'\n",
    "print(byte_string)"
   ]
  },
  {
   "cell_type": "code",
   "execution_count": 117,
   "metadata": {},
   "outputs": [],
   "source": [
    "a = 'tython thgh tswkjdsk tsdjuoidsku tsdks'"
   ]
  },
  {
   "cell_type": "code",
   "execution_count": 118,
   "metadata": {},
   "outputs": [
    {
     "data": {
      "text/plain": [
       "'tython thgh tswkjdsk tsdjuoidsku tsdks'"
      ]
     },
     "execution_count": 118,
     "metadata": {},
     "output_type": "execute_result"
    }
   ],
   "source": [
    "a"
   ]
  },
  {
   "cell_type": "code",
   "execution_count": 119,
   "metadata": {},
   "outputs": [
    {
     "data": {
      "text/plain": [
       "140181012225584"
      ]
     },
     "execution_count": 119,
     "metadata": {},
     "output_type": "execute_result"
    }
   ],
   "source": [
    "id(a)"
   ]
  },
  {
   "cell_type": "code",
   "execution_count": 124,
   "metadata": {},
   "outputs": [
    {
     "ename": "AttributeError",
     "evalue": "'str' object has no attribute 'len'",
     "output_type": "error",
     "traceback": [
      "\u001b[0;31m---------------------------------------------------------------------------\u001b[0m",
      "\u001b[0;31mAttributeError\u001b[0m                            Traceback (most recent call last)",
      "Input \u001b[0;32mIn [124]\u001b[0m, in \u001b[0;36m<cell line: 1>\u001b[0;34m()\u001b[0m\n\u001b[0;32m----> 1\u001b[0m (\u001b[43ma\u001b[49m\u001b[38;5;241;43m.\u001b[39;49m\u001b[43mlen\u001b[49m()\u001b[38;5;241m.\u001b[39mtitle()\u001b[38;5;241m.\u001b[39mswapcase()\u001b[38;5;241m.\u001b[39mupper()) \u001b[38;5;241m*\u001b[39m \u001b[38;5;241m5\u001b[39m\n",
      "\u001b[0;31mAttributeError\u001b[0m: 'str' object has no attribute 'len'"
     ]
    }
   ],
   "source": [
    "(a.title().swapcase().upper()) * 5"
   ]
  },
  {
   "cell_type": "code",
   "execution_count": null,
   "metadata": {},
   "outputs": [],
   "source": [
    "help(print)"
   ]
  },
  {
   "cell_type": "code",
   "execution_count": null,
   "metadata": {},
   "outputs": [],
   "source": [
    "id(a)"
   ]
  },
  {
   "cell_type": "code",
   "execution_count": 2,
   "metadata": {},
   "outputs": [
    {
     "name": "stdout",
     "output_type": "stream",
     "text": [
      "False\n"
     ]
    }
   ],
   "source": [
    "print('jfvvfj'.isspace())"
   ]
  },
  {
   "cell_type": "code",
   "execution_count": null,
   "metadata": {},
   "outputs": [],
   "source": [
    "dir('jfvvfj')"
   ]
  },
  {
   "cell_type": "markdown",
   "metadata": {},
   "source": [
    "*В питоне все - объект!*\n",
    "\n",
    "Доступ к свойствам и методам\n",
    "\n",
    "![dot](./images/dot-notation.png)"
   ]
  },
  {
   "cell_type": "markdown",
   "metadata": {},
   "source": [
    "#### Форматирование строк"
   ]
  },
  {
   "cell_type": "code",
   "execution_count": 122,
   "metadata": {
    "scrolled": false
   },
   "outputs": [
    {
     "name": "stdout",
     "output_type": "stream",
     "text": [
      "Help on class int in module builtins:\n",
      "\n",
      "class int(object)\n",
      " |  int([x]) -> integer\n",
      " |  int(x, base=10) -> integer\n",
      " |  \n",
      " |  Convert a number or string to an integer, or return 0 if no arguments\n",
      " |  are given.  If x is a number, return x.__int__().  For floating point\n",
      " |  numbers, this truncates towards zero.\n",
      " |  \n",
      " |  If x is not a number or if base is given, then x must be a string,\n",
      " |  bytes, or bytearray instance representing an integer literal in the\n",
      " |  given base.  The literal can be preceded by '+' or '-' and be surrounded\n",
      " |  by whitespace.  The base defaults to 10.  Valid bases are 0 and 2-36.\n",
      " |  Base 0 means to interpret the base from the string as an integer literal.\n",
      " |  >>> int('0b100', base=0)\n",
      " |  4\n",
      " |  \n",
      " |  Built-in subclasses:\n",
      " |      bool\n",
      " |  \n",
      " |  Methods defined here:\n",
      " |  \n",
      " |  __abs__(self, /)\n",
      " |      abs(self)\n",
      " |  \n",
      " |  __add__(self, value, /)\n",
      " |      Return self+value.\n",
      " |  \n",
      " |  __and__(self, value, /)\n",
      " |      Return self&value.\n",
      " |  \n",
      " |  __bool__(self, /)\n",
      " |      True if self else False\n",
      " |  \n",
      " |  __ceil__(...)\n",
      " |      Ceiling of an Integral returns itself.\n",
      " |  \n",
      " |  __divmod__(self, value, /)\n",
      " |      Return divmod(self, value).\n",
      " |  \n",
      " |  __eq__(self, value, /)\n",
      " |      Return self==value.\n",
      " |  \n",
      " |  __float__(self, /)\n",
      " |      float(self)\n",
      " |  \n",
      " |  __floor__(...)\n",
      " |      Flooring an Integral returns itself.\n",
      " |  \n",
      " |  __floordiv__(self, value, /)\n",
      " |      Return self//value.\n",
      " |  \n",
      " |  __format__(self, format_spec, /)\n",
      " |      Default object formatter.\n",
      " |  \n",
      " |  __ge__(self, value, /)\n",
      " |      Return self>=value.\n",
      " |  \n",
      " |  __getattribute__(self, name, /)\n",
      " |      Return getattr(self, name).\n",
      " |  \n",
      " |  __getnewargs__(self, /)\n",
      " |  \n",
      " |  __gt__(self, value, /)\n",
      " |      Return self>value.\n",
      " |  \n",
      " |  __hash__(self, /)\n",
      " |      Return hash(self).\n",
      " |  \n",
      " |  __index__(self, /)\n",
      " |      Return self converted to an integer, if self is suitable for use as an index into a list.\n",
      " |  \n",
      " |  __int__(self, /)\n",
      " |      int(self)\n",
      " |  \n",
      " |  __invert__(self, /)\n",
      " |      ~self\n",
      " |  \n",
      " |  __le__(self, value, /)\n",
      " |      Return self<=value.\n",
      " |  \n",
      " |  __lshift__(self, value, /)\n",
      " |      Return self<<value.\n",
      " |  \n",
      " |  __lt__(self, value, /)\n",
      " |      Return self<value.\n",
      " |  \n",
      " |  __mod__(self, value, /)\n",
      " |      Return self%value.\n",
      " |  \n",
      " |  __mul__(self, value, /)\n",
      " |      Return self*value.\n",
      " |  \n",
      " |  __ne__(self, value, /)\n",
      " |      Return self!=value.\n",
      " |  \n",
      " |  __neg__(self, /)\n",
      " |      -self\n",
      " |  \n",
      " |  __or__(self, value, /)\n",
      " |      Return self|value.\n",
      " |  \n",
      " |  __pos__(self, /)\n",
      " |      +self\n",
      " |  \n",
      " |  __pow__(self, value, mod=None, /)\n",
      " |      Return pow(self, value, mod).\n",
      " |  \n",
      " |  __radd__(self, value, /)\n",
      " |      Return value+self.\n",
      " |  \n",
      " |  __rand__(self, value, /)\n",
      " |      Return value&self.\n",
      " |  \n",
      " |  __rdivmod__(self, value, /)\n",
      " |      Return divmod(value, self).\n",
      " |  \n",
      " |  __repr__(self, /)\n",
      " |      Return repr(self).\n",
      " |  \n",
      " |  __rfloordiv__(self, value, /)\n",
      " |      Return value//self.\n",
      " |  \n",
      " |  __rlshift__(self, value, /)\n",
      " |      Return value<<self.\n",
      " |  \n",
      " |  __rmod__(self, value, /)\n",
      " |      Return value%self.\n",
      " |  \n",
      " |  __rmul__(self, value, /)\n",
      " |      Return value*self.\n",
      " |  \n",
      " |  __ror__(self, value, /)\n",
      " |      Return value|self.\n",
      " |  \n",
      " |  __round__(...)\n",
      " |      Rounding an Integral returns itself.\n",
      " |      \n",
      " |      Rounding with an ndigits argument also returns an integer.\n",
      " |  \n",
      " |  __rpow__(self, value, mod=None, /)\n",
      " |      Return pow(value, self, mod).\n",
      " |  \n",
      " |  __rrshift__(self, value, /)\n",
      " |      Return value>>self.\n",
      " |  \n",
      " |  __rshift__(self, value, /)\n",
      " |      Return self>>value.\n",
      " |  \n",
      " |  __rsub__(self, value, /)\n",
      " |      Return value-self.\n",
      " |  \n",
      " |  __rtruediv__(self, value, /)\n",
      " |      Return value/self.\n",
      " |  \n",
      " |  __rxor__(self, value, /)\n",
      " |      Return value^self.\n",
      " |  \n",
      " |  __sizeof__(self, /)\n",
      " |      Returns size in memory, in bytes.\n",
      " |  \n",
      " |  __sub__(self, value, /)\n",
      " |      Return self-value.\n",
      " |  \n",
      " |  __truediv__(self, value, /)\n",
      " |      Return self/value.\n",
      " |  \n",
      " |  __trunc__(...)\n",
      " |      Truncating an Integral returns itself.\n",
      " |  \n",
      " |  __xor__(self, value, /)\n",
      " |      Return self^value.\n",
      " |  \n",
      " |  as_integer_ratio(self, /)\n",
      " |      Return integer ratio.\n",
      " |      \n",
      " |      Return a pair of integers, whose ratio is exactly equal to the original int\n",
      " |      and with a positive denominator.\n",
      " |      \n",
      " |      >>> (10).as_integer_ratio()\n",
      " |      (10, 1)\n",
      " |      >>> (-10).as_integer_ratio()\n",
      " |      (-10, 1)\n",
      " |      >>> (0).as_integer_ratio()\n",
      " |      (0, 1)\n",
      " |  \n",
      " |  bit_count(self, /)\n",
      " |      Number of ones in the binary representation of the absolute value of self.\n",
      " |      \n",
      " |      Also known as the population count.\n",
      " |      \n",
      " |      >>> bin(13)\n",
      " |      '0b1101'\n",
      " |      >>> (13).bit_count()\n",
      " |      3\n",
      " |  \n",
      " |  bit_length(self, /)\n",
      " |      Number of bits necessary to represent self in binary.\n",
      " |      \n",
      " |      >>> bin(37)\n",
      " |      '0b100101'\n",
      " |      >>> (37).bit_length()\n",
      " |      6\n",
      " |  \n",
      " |  conjugate(...)\n",
      " |      Returns self, the complex conjugate of any int.\n",
      " |  \n",
      " |  to_bytes(self, /, length, byteorder, *, signed=False)\n",
      " |      Return an array of bytes representing an integer.\n",
      " |      \n",
      " |      length\n",
      " |        Length of bytes object to use.  An OverflowError is raised if the\n",
      " |        integer is not representable with the given number of bytes.\n",
      " |      byteorder\n",
      " |        The byte order used to represent the integer.  If byteorder is 'big',\n",
      " |        the most significant byte is at the beginning of the byte array.  If\n",
      " |        byteorder is 'little', the most significant byte is at the end of the\n",
      " |        byte array.  To request the native byte order of the host system, use\n",
      " |        `sys.byteorder' as the byte order value.\n",
      " |      signed\n",
      " |        Determines whether two's complement is used to represent the integer.\n",
      " |        If signed is False and a negative integer is given, an OverflowError\n",
      " |        is raised.\n",
      " |  \n",
      " |  ----------------------------------------------------------------------\n",
      " |  Class methods defined here:\n",
      " |  \n",
      " |  from_bytes(bytes, byteorder, *, signed=False) from builtins.type\n",
      " |      Return the integer represented by the given array of bytes.\n",
      " |      \n",
      " |      bytes\n",
      " |        Holds the array of bytes to convert.  The argument must either\n",
      " |        support the buffer protocol or be an iterable object producing bytes.\n",
      " |        Bytes and bytearray are examples of built-in objects that support the\n",
      " |        buffer protocol.\n",
      " |      byteorder\n",
      " |        The byte order used to represent the integer.  If byteorder is 'big',\n",
      " |        the most significant byte is at the beginning of the byte array.  If\n",
      " |        byteorder is 'little', the most significant byte is at the end of the\n",
      " |        byte array.  To request the native byte order of the host system, use\n",
      " |        `sys.byteorder' as the byte order value.\n",
      " |      signed\n",
      " |        Indicates whether two's complement is used to represent the integer.\n",
      " |  \n",
      " |  ----------------------------------------------------------------------\n",
      " |  Static methods defined here:\n",
      " |  \n",
      " |  __new__(*args, **kwargs) from builtins.type\n",
      " |      Create and return a new object.  See help(type) for accurate signature.\n",
      " |  \n",
      " |  ----------------------------------------------------------------------\n",
      " |  Data descriptors defined here:\n",
      " |  \n",
      " |  denominator\n",
      " |      the denominator of a rational number in lowest terms\n",
      " |  \n",
      " |  imag\n",
      " |      the imaginary part of a complex number\n",
      " |  \n",
      " |  numerator\n",
      " |      the numerator of a rational number in lowest terms\n",
      " |  \n",
      " |  real\n",
      " |      the real part of a complex number\n",
      "\n"
     ]
    }
   ],
   "source": [
    "help(int)"
   ]
  },
  {
   "cell_type": "code",
   "execution_count": 125,
   "metadata": {},
   "outputs": [
    {
     "name": "stdout",
     "output_type": "stream",
     "text": [
      "Hello, World\t1\n"
     ]
    }
   ],
   "source": [
    "name = 'World'\n",
    "\n",
    "print('Hello, {}\\t{}'.format(name, 1))"
   ]
  },
  {
   "cell_type": "code",
   "execution_count": 127,
   "metadata": {},
   "outputs": [
    {
     "name": "stdout",
     "output_type": "stream",
     "text": [
      "Hello, World 1\n"
     ]
    }
   ],
   "source": [
    "print('Hello, %s %d' % (name, 1))"
   ]
  },
  {
   "cell_type": "code",
   "execution_count": 128,
   "metadata": {},
   "outputs": [
    {
     "name": "stdout",
     "output_type": "stream",
     "text": [
      "Hello, World!\t 34\n"
     ]
    }
   ],
   "source": [
    "# in python 3.6\n",
    "a = 34\n",
    "print(f'Hello, {name}!\\t {a}')"
   ]
  },
  {
   "cell_type": "code",
   "execution_count": 129,
   "metadata": {
    "nbpresent": {
     "id": "d7ca882b-19d0-4633-b83c-c0bc7e405958"
    }
   },
   "outputs": [
    {
     "name": "stdout",
     "output_type": "stream",
     "text": [
      "['first', 'второй', 'третий']\n"
     ]
    }
   ],
   "source": [
    "tag_list = 'first, второй, третий'\n",
    "splitted = tag_list.split(', ')\n",
    "\n",
    "print(splitted)"
   ]
  },
  {
   "cell_type": "code",
   "execution_count": null,
   "metadata": {},
   "outputs": [],
   "source": [
    "print(.2 + .21) # Float and Finance"
   ]
  },
  {
   "cell_type": "code",
   "execution_count": 130,
   "metadata": {},
   "outputs": [
    {
     "name": "stdout",
     "output_type": "stream",
     "text": [
      "first\n",
      "второй\n",
      "третий\n"
     ]
    }
   ],
   "source": [
    "print('\\n'.join(splitted))\n",
    "# splitted.join(\"_\")"
   ]
  },
  {
   "cell_type": "code",
   "execution_count": 131,
   "metadata": {},
   "outputs": [],
   "source": [
    "input_string = ' 123456789'\n",
    "input_string.islower()\n",
    "input_string = input_string.strip(' 123')"
   ]
  },
  {
   "cell_type": "code",
   "execution_count": 132,
   "metadata": {},
   "outputs": [
    {
     "data": {
      "text/plain": [
       "'456789'"
      ]
     },
     "execution_count": 132,
     "metadata": {},
     "output_type": "execute_result"
    }
   ],
   "source": [
    "input_string"
   ]
  },
  {
   "cell_type": "code",
   "execution_count": 133,
   "metadata": {},
   "outputs": [
    {
     "data": {
      "text/plain": [
       "' 13456789'"
      ]
     },
     "execution_count": 133,
     "metadata": {},
     "output_type": "execute_result"
    }
   ],
   "source": [
    "input_string = ' 123456789'\n",
    "input_string.replace('2', '')"
   ]
  },
  {
   "cell_type": "code",
   "execution_count": 134,
   "metadata": {},
   "outputs": [
    {
     "data": {
      "text/plain": [
       "True"
      ]
     },
     "execution_count": 134,
     "metadata": {},
     "output_type": "execute_result"
    }
   ],
   "source": [
    "'th' in 'python'"
   ]
  },
  {
   "cell_type": "code",
   "execution_count": null,
   "metadata": {},
   "outputs": [],
   "source": [
    "help(strip)"
   ]
  },
  {
   "cell_type": "code",
   "execution_count": 135,
   "metadata": {
    "nbpresent": {
     "id": "76d8b06b-31e4-4fd6-8f0c-f420960edee4"
    },
    "scrolled": true
   },
   "outputs": [
    {
     "data": {
      "text/plain": [
       "['__add__',\n",
       " '__class__',\n",
       " '__contains__',\n",
       " '__delattr__',\n",
       " '__dir__',\n",
       " '__doc__',\n",
       " '__eq__',\n",
       " '__format__',\n",
       " '__ge__',\n",
       " '__getattribute__',\n",
       " '__getitem__',\n",
       " '__getnewargs__',\n",
       " '__gt__',\n",
       " '__hash__',\n",
       " '__init__',\n",
       " '__init_subclass__',\n",
       " '__iter__',\n",
       " '__le__',\n",
       " '__len__',\n",
       " '__lt__',\n",
       " '__mod__',\n",
       " '__mul__',\n",
       " '__ne__',\n",
       " '__new__',\n",
       " '__reduce__',\n",
       " '__reduce_ex__',\n",
       " '__repr__',\n",
       " '__rmod__',\n",
       " '__rmul__',\n",
       " '__setattr__',\n",
       " '__sizeof__',\n",
       " '__str__',\n",
       " '__subclasshook__',\n",
       " 'capitalize',\n",
       " 'casefold',\n",
       " 'center',\n",
       " 'count',\n",
       " 'encode',\n",
       " 'endswith',\n",
       " 'expandtabs',\n",
       " 'find',\n",
       " 'format',\n",
       " 'format_map',\n",
       " 'index',\n",
       " 'isalnum',\n",
       " 'isalpha',\n",
       " 'isascii',\n",
       " 'isdecimal',\n",
       " 'isdigit',\n",
       " 'isidentifier',\n",
       " 'islower',\n",
       " 'isnumeric',\n",
       " 'isprintable',\n",
       " 'isspace',\n",
       " 'istitle',\n",
       " 'isupper',\n",
       " 'join',\n",
       " 'ljust',\n",
       " 'lower',\n",
       " 'lstrip',\n",
       " 'maketrans',\n",
       " 'partition',\n",
       " 'removeprefix',\n",
       " 'removesuffix',\n",
       " 'replace',\n",
       " 'rfind',\n",
       " 'rindex',\n",
       " 'rjust',\n",
       " 'rpartition',\n",
       " 'rsplit',\n",
       " 'rstrip',\n",
       " 'split',\n",
       " 'splitlines',\n",
       " 'startswith',\n",
       " 'strip',\n",
       " 'swapcase',\n",
       " 'title',\n",
       " 'translate',\n",
       " 'upper',\n",
       " 'zfill']"
      ]
     },
     "execution_count": 135,
     "metadata": {},
     "output_type": "execute_result"
    }
   ],
   "source": [
    "dir(input_string)"
   ]
  },
  {
   "cell_type": "code",
   "execution_count": null,
   "metadata": {},
   "outputs": [],
   "source": [
    "a = 'DfdfDfd'"
   ]
  },
  {
   "cell_type": "code",
   "execution_count": null,
   "metadata": {},
   "outputs": [],
   "source": [
    "a.replace('Df', '12')"
   ]
  },
  {
   "cell_type": "markdown",
   "metadata": {},
   "source": [
    "## Приведение типов\n",
    "\n",
    "```python\n",
    "int()\n",
    "bool()\n",
    "str()\n",
    "float()\n",
    "```"
   ]
  },
  {
   "cell_type": "code",
   "execution_count": null,
   "metadata": {},
   "outputs": [],
   "source": [
    "int(7.9)"
   ]
  },
  {
   "cell_type": "code",
   "execution_count": null,
   "metadata": {},
   "outputs": [],
   "source": [
    "bool(7.9)"
   ]
  },
  {
   "cell_type": "code",
   "execution_count": null,
   "metadata": {},
   "outputs": [],
   "source": [
    "str(7.9)"
   ]
  },
  {
   "cell_type": "markdown",
   "metadata": {},
   "source": [
    "## ДЗ 1\n",
    "### Дано предложение \n",
    "Не знаю, как там в Лондоне, я не была. Может, там собака — друг человека. А у нас управдом — друг человека!\n",
    "### Необходимо:\n",
    "\n",
    "1. Посчитать количество символов\n",
    "2. Развернуть строку. Python yes -> sey nohtyP\n",
    "3. Сделать каждое слово с большой буквы\n",
    "4. Сделать весь текст прописными буквами\n",
    "5. Найти число вхождений \"нд\", \"ам\", \"о\" в строку\n",
    "6. Собственные упражнения\n",
    "1. Развернуть предложение. Я Денис -> Денис Я\n",
    "1. Вывести в консоль исходную строку\n",
    "--------------------------------------------------------\n",
    "\n",
    "1. Вывести в консоль результат каждого шага: Например: Шаг1 - ***Количество символов - 4***\n",
    "\n",
    "_____\n",
    "```python\n",
    "\"текст программы (в файле {}.py) прислать мне. В дальнейшем будем использовать Git\".format(your_real_full_name)\n",
    "```\n",
    "\n"
   ]
  },
  {
   "cell_type": "code",
   "execution_count": null,
   "metadata": {},
   "outputs": [],
   "source": []
  }
 ],
 "metadata": {
  "anaconda-cloud": {},
  "kernelspec": {
   "display_name": "Python 3 (ipykernel)",
   "language": "python",
   "name": "python3"
  },
  "language_info": {
   "codemirror_mode": {
    "name": "ipython",
    "version": 3
   },
   "file_extension": ".py",
   "mimetype": "text/x-python",
   "name": "python",
   "nbconvert_exporter": "python",
   "pygments_lexer": "ipython3",
   "version": "3.10.6"
  },
  "nbpresent": {
   "slides": {
    "0880ee67-89bf-4856-81ed-733affa8b6bd": {
     "id": "0880ee67-89bf-4856-81ed-733affa8b6bd",
     "prev": "b801d2ff-65f8-447d-87a2-d4c6330f3739",
     "regions": {
      "9bb63994-874f-4332-a830-a0772b4603d0": {
       "attrs": {
        "height": 0.8,
        "width": 0.8,
        "x": 0.1,
        "y": 0.1
       },
       "content": {
        "cell": "2b4e3dc2-650e-494d-96b9-de3b6f8f1a3a",
        "part": "whole"
       },
       "id": "9bb63994-874f-4332-a830-a0772b4603d0"
      }
     }
    },
    "0f5376bb-908b-47b3-bf59-3945b3deb739": {
     "id": "0f5376bb-908b-47b3-bf59-3945b3deb739",
     "prev": "67cd5eff-0553-4787-a0a7-e8cea37fe67a",
     "regions": {
      "c36b385e-d46b-4739-a69f-a8237f75dc21": {
       "attrs": {
        "height": 0.8,
        "width": 0.8,
        "x": 0.1,
        "y": 0.1
       },
       "content": {
        "cell": "23fa908d-a2b5-4527-9473-c571f847ebd5",
        "part": "whole"
       },
       "id": "c36b385e-d46b-4739-a69f-a8237f75dc21"
      }
     }
    },
    "109f17f8-a5b6-457a-bc4b-64cbd4b14855": {
     "id": "109f17f8-a5b6-457a-bc4b-64cbd4b14855",
     "prev": "b8954974-4062-4d2a-842b-405f27f82a92",
     "regions": {
      "7ea38b9d-97a3-4982-a283-2d8a17c6c292": {
       "attrs": {
        "height": 0.8,
        "width": 0.8,
        "x": 0.1,
        "y": 0.1
       },
       "content": {
        "cell": "de8d1393-f57b-4a4a-966b-1937e1d84d23",
        "part": "whole"
       },
       "id": "7ea38b9d-97a3-4982-a283-2d8a17c6c292"
      }
     }
    },
    "1a01e59e-b116-49b6-9f68-9e22b89c6b95": {
     "id": "1a01e59e-b116-49b6-9f68-9e22b89c6b95",
     "prev": "f7bc1f38-cf5c-4d93-b3d0-c474f4f32c66",
     "regions": {
      "ad454609-230c-424d-a0da-ae2a4ef10645": {
       "attrs": {
        "height": 0.8,
        "width": 0.8,
        "x": 0.1,
        "y": 0.1
       },
       "content": {
        "cell": "21bf0b58-b294-45df-a969-f992c9aa8078",
        "part": "whole"
       },
       "id": "ad454609-230c-424d-a0da-ae2a4ef10645"
      }
     }
    },
    "1d00ee45-3396-40c6-9fe4-bd5dacd91e58": {
     "id": "1d00ee45-3396-40c6-9fe4-bd5dacd91e58",
     "prev": "4a4c7351-d761-432a-a7b7-c209093827cf",
     "regions": {
      "d4b5dfe6-a718-496e-bfb2-422822c14817": {
       "attrs": {
        "height": 0.8,
        "width": 0.8,
        "x": 0.1,
        "y": 0.1
       },
       "content": {
        "cell": "ac36d202-99f5-402d-95fe-eba984b7b6f5",
        "part": "whole"
       },
       "id": "d4b5dfe6-a718-496e-bfb2-422822c14817"
      }
     }
    },
    "2281cb68-6ea4-4391-8dd7-82bf53f055c0": {
     "id": "2281cb68-6ea4-4391-8dd7-82bf53f055c0",
     "prev": "23be1a06-11c3-48d8-9005-6b9ad4194375",
     "regions": {
      "30018f3a-c060-401c-8f25-7ba48f51ad18": {
       "attrs": {
        "height": 0.8,
        "width": 0.8,
        "x": 0.1,
        "y": 0.1
       },
       "content": {
        "cell": "fb8b2f67-64f6-4606-9886-5a4c32e1d90d",
        "part": "whole"
       },
       "id": "30018f3a-c060-401c-8f25-7ba48f51ad18"
      }
     }
    },
    "23be1a06-11c3-48d8-9005-6b9ad4194375": {
     "id": "23be1a06-11c3-48d8-9005-6b9ad4194375",
     "prev": "563ca0df-f0eb-4deb-9207-8332dd9ae7f3",
     "regions": {
      "d1f3e5e6-b42d-48ae-9207-2e306ad1af77": {
       "attrs": {
        "height": 0.8,
        "width": 0.8,
        "x": 0.1,
        "y": 0.1
       },
       "content": {
        "cell": "45ccc9c3-4993-4865-a978-d2436e5aa953",
        "part": "whole"
       },
       "id": "d1f3e5e6-b42d-48ae-9207-2e306ad1af77"
      }
     }
    },
    "2408593b-c69b-4153-8e4d-dbcf8286dc31": {
     "id": "2408593b-c69b-4153-8e4d-dbcf8286dc31",
     "prev": "54c8a04d-4afa-46af-8b9c-c6a77b1201a6",
     "regions": {
      "9c9146be-ef02-44cb-9ae6-b2ebbeb96336": {
       "attrs": {
        "height": 0.8,
        "width": 0.8,
        "x": 0.1,
        "y": 0.1
       },
       "content": {
        "cell": "5e3c8a8f-29c0-4dd7-834e-4b740d132940",
        "part": "whole"
       },
       "id": "9c9146be-ef02-44cb-9ae6-b2ebbeb96336"
      }
     }
    },
    "2895d4e0-41f4-42e1-8777-53ab07f2b43a": {
     "id": "2895d4e0-41f4-42e1-8777-53ab07f2b43a",
     "prev": "750654d5-3b35-4195-9cee-46254777c713",
     "regions": {
      "7ad58a77-9f9a-4511-849f-34b2c6f2dbe0": {
       "attrs": {
        "height": 0.8,
        "width": 0.8,
        "x": 0.1,
        "y": 0.1
       },
       "content": {
        "cell": "76d8b06b-31e4-4fd6-8f0c-f420960edee4",
        "part": "whole"
       },
       "id": "7ad58a77-9f9a-4511-849f-34b2c6f2dbe0"
      }
     }
    },
    "36b25990-2c81-404b-9501-1d380bc66307": {
     "id": "36b25990-2c81-404b-9501-1d380bc66307",
     "prev": "2895d4e0-41f4-42e1-8777-53ab07f2b43a",
     "regions": {
      "039073c8-344a-4184-9dfb-190989d36d5b": {
       "attrs": {
        "height": 0.8,
        "width": 0.8,
        "x": 0.1,
        "y": 0.1
       },
       "content": {
        "cell": "22fd04a1-bd5e-4a22-9736-876df73bf337",
        "part": "whole"
       },
       "id": "039073c8-344a-4184-9dfb-190989d36d5b"
      }
     }
    },
    "3ceebaa2-0ddd-4857-98f0-e4334f69930b": {
     "id": "3ceebaa2-0ddd-4857-98f0-e4334f69930b",
     "prev": "9966b0b2-e1cb-4f7c-8e44-27ed82f94cbc",
     "regions": {
      "f8ca8ed1-23bf-40bf-b6be-64edf97ac039": {
       "attrs": {
        "height": 0.8,
        "width": 0.8,
        "x": 0.1,
        "y": 0.1
       },
       "content": {
        "cell": "9db48ae0-7876-4596-ad92-b27de8a99501",
        "part": "whole"
       },
       "id": "f8ca8ed1-23bf-40bf-b6be-64edf97ac039"
      }
     }
    },
    "3f3264fb-cbaf-4430-95c6-371ee5b7ad60": {
     "id": "3f3264fb-cbaf-4430-95c6-371ee5b7ad60",
     "prev": "c31e4a73-4b97-42b8-a889-8015b6ccbe72",
     "regions": {
      "e88aa647-da5c-46d9-8486-462eabb818bf": {
       "attrs": {
        "height": 0.8,
        "width": 0.8,
        "x": 0.1,
        "y": 0.1
       },
       "content": {
        "cell": "8344a81e-0d03-48d7-98f4-d8c7ee59ce9f",
        "part": "whole"
       },
       "id": "e88aa647-da5c-46d9-8486-462eabb818bf"
      }
     }
    },
    "46ba1741-36ee-45bd-ad40-ff3030a5960f": {
     "id": "46ba1741-36ee-45bd-ad40-ff3030a5960f",
     "prev": null,
     "regions": {
      "56870e5d-88e4-4ff2-ac28-012ec41b5285": {
       "attrs": {
        "height": 0.8,
        "width": 0.8,
        "x": 0.1,
        "y": 0.1
       },
       "content": {
        "cell": "f708d8dd-9a00-4abb-a203-fed2a84e1709",
        "part": "whole"
       },
       "id": "56870e5d-88e4-4ff2-ac28-012ec41b5285"
      }
     }
    },
    "47d8bd74-c773-47f9-9f1a-80bc740cb541": {
     "id": "47d8bd74-c773-47f9-9f1a-80bc740cb541",
     "prev": "af61fbea-3364-4107-b435-a5e25eb4a366",
     "regions": {
      "ced36a5d-7877-4ea2-8e92-7c4405cae221": {
       "attrs": {
        "height": 0.8,
        "width": 0.8,
        "x": 0.1,
        "y": 0.1
       },
       "content": {
        "cell": "2301b946-912c-4c4c-9378-d1c3e97d354d",
        "part": "whole"
       },
       "id": "ced36a5d-7877-4ea2-8e92-7c4405cae221"
      }
     }
    },
    "4a4c7351-d761-432a-a7b7-c209093827cf": {
     "id": "4a4c7351-d761-432a-a7b7-c209093827cf",
     "prev": "2408593b-c69b-4153-8e4d-dbcf8286dc31",
     "regions": {
      "567e17f2-f1ae-4632-9ee1-ddc4b9f00cc0": {
       "attrs": {
        "height": 0.8,
        "width": 0.8,
        "x": 0.1,
        "y": 0.1
       },
       "content": {
        "cell": "eeea9590-0b4a-4768-88c9-4a8bf2dc9c01",
        "part": "whole"
       },
       "id": "567e17f2-f1ae-4632-9ee1-ddc4b9f00cc0"
      }
     }
    },
    "5194a08c-7be3-4073-b4b5-d20f135c9166": {
     "id": "5194a08c-7be3-4073-b4b5-d20f135c9166",
     "prev": "1d00ee45-3396-40c6-9fe4-bd5dacd91e58",
     "regions": {
      "aef03eca-5c85-4f8f-a4ef-3715c32d9920": {
       "attrs": {
        "height": 0.8,
        "width": 0.8,
        "x": 0.1,
        "y": 0.1
       },
       "content": {
        "cell": "d5176cbe-b385-4fee-9f85-30b7e2e9005c",
        "part": "whole"
       },
       "id": "aef03eca-5c85-4f8f-a4ef-3715c32d9920"
      }
     }
    },
    "54c8a04d-4afa-46af-8b9c-c6a77b1201a6": {
     "id": "54c8a04d-4afa-46af-8b9c-c6a77b1201a6",
     "prev": "ae9b1bf7-17e7-43bb-9369-6be527fe385b",
     "regions": {
      "d08958fc-d45c-404b-955b-194bd32e65f7": {
       "attrs": {
        "height": 0.8,
        "width": 0.8,
        "x": 0.1,
        "y": 0.1
       },
       "content": {
        "cell": "e39f08bc-6e87-4b97-b998-130bac977395",
        "part": "whole"
       },
       "id": "d08958fc-d45c-404b-955b-194bd32e65f7"
      }
     }
    },
    "5604eeaa-df07-4e56-876e-7f68156926a5": {
     "id": "5604eeaa-df07-4e56-876e-7f68156926a5",
     "prev": "2281cb68-6ea4-4391-8dd7-82bf53f055c0",
     "regions": {
      "c27ae683-d6f3-42b4-a776-5e01983c8b73": {
       "attrs": {
        "height": 0.8,
        "width": 0.8,
        "x": 0.1,
        "y": 0.1
       },
       "content": {
        "cell": "cb6221b2-5e64-4ce8-b561-b25a769c057e",
        "part": "whole"
       },
       "id": "c27ae683-d6f3-42b4-a776-5e01983c8b73"
      }
     }
    },
    "563ca0df-f0eb-4deb-9207-8332dd9ae7f3": {
     "id": "563ca0df-f0eb-4deb-9207-8332dd9ae7f3",
     "prev": "713e4ec3-ee59-4c57-b4ff-0fc1ad591bcf",
     "regions": {
      "c04214ac-72b8-48b5-852d-2a910b2b1fe4": {
       "attrs": {
        "height": 0.8,
        "width": 0.8,
        "x": 0.1,
        "y": 0.1
       },
       "content": {
        "cell": "b409f761-48cd-46b6-96ef-1c4f39fbe7dc",
        "part": "whole"
       },
       "id": "c04214ac-72b8-48b5-852d-2a910b2b1fe4"
      }
     }
    },
    "67cd5eff-0553-4787-a0a7-e8cea37fe67a": {
     "id": "67cd5eff-0553-4787-a0a7-e8cea37fe67a",
     "prev": "36b25990-2c81-404b-9501-1d380bc66307",
     "regions": {
      "4c1533ef-48ad-4baf-9906-4ff83bc65289": {
       "attrs": {
        "height": 0.8,
        "width": 0.8,
        "x": 0.1,
        "y": 0.1
       },
       "content": {
        "cell": "cba82f9f-dcdc-4081-8bec-76f94e75340e",
        "part": "whole"
       },
       "id": "4c1533ef-48ad-4baf-9906-4ff83bc65289"
      }
     }
    },
    "713e4ec3-ee59-4c57-b4ff-0fc1ad591bcf": {
     "id": "713e4ec3-ee59-4c57-b4ff-0fc1ad591bcf",
     "prev": "7c59efc3-2e3d-432d-b1ea-7861f1dea424",
     "regions": {
      "e3724af8-26cc-43c4-89fb-24d06884af50": {
       "attrs": {
        "height": 0.8,
        "width": 0.8,
        "x": 0.1,
        "y": 0.1
       },
       "content": {
        "cell": "8de34689-f7ca-4ab0-8397-6ff1e60bffee",
        "part": "whole"
       },
       "id": "e3724af8-26cc-43c4-89fb-24d06884af50"
      }
     }
    },
    "750654d5-3b35-4195-9cee-46254777c713": {
     "id": "750654d5-3b35-4195-9cee-46254777c713",
     "prev": "f24b26ec-7938-42cc-a426-589203ceb4b1",
     "regions": {
      "df3e5657-df5a-4401-b7ae-de92545baca6": {
       "attrs": {
        "height": 0.8,
        "width": 0.8,
        "x": 0.1,
        "y": 0.1
       },
       "content": {
        "cell": "d7ca882b-19d0-4633-b83c-c0bc7e405958",
        "part": "whole"
       },
       "id": "df3e5657-df5a-4401-b7ae-de92545baca6"
      }
     }
    },
    "78702d2f-f4cc-4b34-bd7d-5fc5633c6d6e": {
     "id": "78702d2f-f4cc-4b34-bd7d-5fc5633c6d6e",
     "prev": "5194a08c-7be3-4073-b4b5-d20f135c9166",
     "regions": {
      "289a69af-450c-4609-8176-fb78474ad639": {
       "attrs": {
        "height": 0.8,
        "width": 0.8,
        "x": 0.1,
        "y": 0.1
       },
       "content": {
        "cell": "3210b3d4-e72a-4559-81e9-9d4857489ddc",
        "part": "whole"
       },
       "id": "289a69af-450c-4609-8176-fb78474ad639"
      }
     }
    },
    "7c59efc3-2e3d-432d-b1ea-7861f1dea424": {
     "id": "7c59efc3-2e3d-432d-b1ea-7861f1dea424",
     "prev": "ca3d5af4-6a83-4197-957e-76e06eb520bf",
     "regions": {
      "cbf5db27-6af9-4fd4-b422-9da6c9a44acb": {
       "attrs": {
        "height": 0.8,
        "width": 0.8,
        "x": 0.1,
        "y": 0.1
       },
       "content": {
        "cell": "89233b63-20d9-46cc-ac4e-90b39e78e00b",
        "part": "whole"
       },
       "id": "cbf5db27-6af9-4fd4-b422-9da6c9a44acb"
      }
     }
    },
    "87cd326f-c841-4dfc-9477-499a74a9ba78": {
     "id": "87cd326f-c841-4dfc-9477-499a74a9ba78",
     "prev": "5604eeaa-df07-4e56-876e-7f68156926a5",
     "regions": {
      "ae807eeb-6a0f-42dd-8940-122ef9f2c645": {
       "attrs": {
        "height": 0.8,
        "width": 0.8,
        "x": 0.1,
        "y": 0.1
       },
       "content": {
        "cell": "834ba0ec-8bd0-4dc6-afda-3b600eaf6795",
        "part": "whole"
       },
       "id": "ae807eeb-6a0f-42dd-8940-122ef9f2c645"
      }
     }
    },
    "8a8682f7-39a2-4f42-8c7b-d5c8a5149fdb": {
     "id": "8a8682f7-39a2-4f42-8c7b-d5c8a5149fdb",
     "prev": "3f3264fb-cbaf-4430-95c6-371ee5b7ad60",
     "regions": {
      "b92d3d7f-5395-4c28-ae60-f3771393d62f": {
       "attrs": {
        "height": 0.8,
        "width": 0.8,
        "x": 0.1,
        "y": 0.1
       },
       "content": {
        "cell": "0325e102-8e66-47f8-8afc-e57a80300bf0",
        "part": "whole"
       },
       "id": "b92d3d7f-5395-4c28-ae60-f3771393d62f"
      }
     }
    },
    "955fdfdc-8205-487c-98c4-8e2a2a9c417a": {
     "id": "955fdfdc-8205-487c-98c4-8e2a2a9c417a",
     "prev": "3ceebaa2-0ddd-4857-98f0-e4334f69930b",
     "regions": {
      "0798b8cb-b19d-4c5d-aff8-d332fade7e55": {
       "attrs": {
        "height": 0.8,
        "width": 0.8,
        "x": 0.1,
        "y": 0.1
       },
       "content": {
        "cell": "f6212319-c163-4eb1-9a7b-5fb55c1736c2",
        "part": "whole"
       },
       "id": "0798b8cb-b19d-4c5d-aff8-d332fade7e55"
      }
     }
    },
    "9966b0b2-e1cb-4f7c-8e44-27ed82f94cbc": {
     "id": "9966b0b2-e1cb-4f7c-8e44-27ed82f94cbc",
     "prev": "87cd326f-c841-4dfc-9477-499a74a9ba78",
     "regions": {
      "0e7eaa30-278d-4f65-8919-eedf69d6816f": {
       "attrs": {
        "height": 0.8,
        "width": 0.8,
        "x": 0.1,
        "y": 0.1
       },
       "content": {
        "cell": "cf36d9a5-29d6-42a2-ac46-f747eeee313a",
        "part": "whole"
       },
       "id": "0e7eaa30-278d-4f65-8919-eedf69d6816f"
      }
     }
    },
    "9e67f9e6-72b0-433c-a897-a613830b8c78": {
     "id": "9e67f9e6-72b0-433c-a897-a613830b8c78",
     "prev": "955fdfdc-8205-487c-98c4-8e2a2a9c417a",
     "regions": {
      "b0f303b6-4019-416f-9e57-b989f2c2e64e": {
       "attrs": {
        "height": 0.8,
        "width": 0.8,
        "x": 0.1,
        "y": 0.1
       },
       "content": {
        "cell": "a49b089f-381f-4acb-b1ca-7d7296c15245",
        "part": "whole"
       },
       "id": "b0f303b6-4019-416f-9e57-b989f2c2e64e"
      }
     }
    },
    "a7f6dedf-4252-4566-a405-9d638e5c9d50": {
     "id": "a7f6dedf-4252-4566-a405-9d638e5c9d50",
     "prev": "0880ee67-89bf-4856-81ed-733affa8b6bd",
     "regions": {
      "b4158f84-68a2-421c-82c6-e69cfa96bad8": {
       "attrs": {
        "height": 0.8,
        "width": 0.8,
        "x": 0.1,
        "y": 0.1
       },
       "content": {
        "cell": "ed2d4ec8-ac61-4f69-8e93-1dd0ca8e7e0e",
        "part": "whole"
       },
       "id": "b4158f84-68a2-421c-82c6-e69cfa96bad8"
      }
     }
    },
    "ae9b1bf7-17e7-43bb-9369-6be527fe385b": {
     "id": "ae9b1bf7-17e7-43bb-9369-6be527fe385b",
     "prev": "b363e08a-0dab-4e95-9377-8e5cf9b4ee74",
     "regions": {
      "7c46799b-0c55-4f48-8e2b-6f909bc68178": {
       "attrs": {
        "height": 0.8,
        "width": 0.8,
        "x": 0.1,
        "y": 0.1
       },
       "content": {
        "cell": "c8881ad4-c6db-4ce6-b6f6-c293d2e928d8",
        "part": "whole"
       },
       "id": "7c46799b-0c55-4f48-8e2b-6f909bc68178"
      }
     }
    },
    "af61fbea-3364-4107-b435-a5e25eb4a366": {
     "id": "af61fbea-3364-4107-b435-a5e25eb4a366",
     "prev": "9e67f9e6-72b0-433c-a897-a613830b8c78",
     "regions": {
      "2189c69e-6788-4d00-b6cc-e2f10f741749": {
       "attrs": {
        "height": 0.8,
        "width": 0.8,
        "x": 0.1,
        "y": 0.1
       },
       "content": {
        "cell": "fe2f1e0e-27c4-497d-988e-c438b6ce1cba",
        "part": "whole"
       },
       "id": "2189c69e-6788-4d00-b6cc-e2f10f741749"
      }
     }
    },
    "b363e08a-0dab-4e95-9377-8e5cf9b4ee74": {
     "id": "b363e08a-0dab-4e95-9377-8e5cf9b4ee74",
     "prev": "8a8682f7-39a2-4f42-8c7b-d5c8a5149fdb",
     "regions": {
      "12258ec8-d358-4b56-bf7c-06360e7f337b": {
       "attrs": {
        "height": 0.8,
        "width": 0.8,
        "x": 0.1,
        "y": 0.1
       },
       "content": {
        "cell": "c386aa9d-f8b1-4477-8ede-d0e2214a10ff",
        "part": "whole"
       },
       "id": "12258ec8-d358-4b56-bf7c-06360e7f337b"
      }
     }
    },
    "b801d2ff-65f8-447d-87a2-d4c6330f3739": {
     "id": "b801d2ff-65f8-447d-87a2-d4c6330f3739",
     "prev": "0f5376bb-908b-47b3-bf59-3945b3deb739",
     "regions": {
      "61b292b5-fc93-4609-9ee3-1b4ae41e4f7f": {
       "attrs": {
        "height": 0.8,
        "width": 0.8,
        "x": 0.1,
        "y": 0.1
       },
       "content": {
        "cell": "1221e3f0-50eb-4bfe-ae90-2a91d4611439",
        "part": "whole"
       },
       "id": "61b292b5-fc93-4609-9ee3-1b4ae41e4f7f"
      }
     }
    },
    "b8954974-4062-4d2a-842b-405f27f82a92": {
     "id": "b8954974-4062-4d2a-842b-405f27f82a92",
     "prev": "46ba1741-36ee-45bd-ad40-ff3030a5960f",
     "regions": {
      "a165f756-99b2-402c-83fa-9b4f3ad21287": {
       "attrs": {
        "height": 0.8,
        "width": 0.8,
        "x": 0.1,
        "y": 0.1
       },
       "content": {
        "cell": "246518c1-b106-4b50-92fd-e38824e1ea35",
        "part": "whole"
       },
       "id": "a165f756-99b2-402c-83fa-9b4f3ad21287"
      }
     }
    },
    "c31e4a73-4b97-42b8-a889-8015b6ccbe72": {
     "id": "c31e4a73-4b97-42b8-a889-8015b6ccbe72",
     "prev": "1a01e59e-b116-49b6-9f68-9e22b89c6b95",
     "regions": {
      "c2721dbb-60c8-46e3-8d30-6fbc418e3228": {
       "attrs": {
        "height": 0.8,
        "width": 0.8,
        "x": 0.1,
        "y": 0.1
       },
       "content": {
        "cell": "5067edfe-e6ca-47e3-a1bc-4b8ceba70c16",
        "part": "whole"
       },
       "id": "c2721dbb-60c8-46e3-8d30-6fbc418e3228"
      }
     }
    },
    "ca3d5af4-6a83-4197-957e-76e06eb520bf": {
     "id": "ca3d5af4-6a83-4197-957e-76e06eb520bf",
     "prev": "a7f6dedf-4252-4566-a405-9d638e5c9d50",
     "regions": {
      "602fae7c-1731-4657-8a24-02b03b36e5f7": {
       "attrs": {
        "height": 0.8,
        "width": 0.8,
        "x": 0.1,
        "y": 0.1
       },
       "content": {
        "cell": "fd77e07c-a83d-41da-b9b4-5d7c4316d844",
        "part": "whole"
       },
       "id": "602fae7c-1731-4657-8a24-02b03b36e5f7"
      }
     }
    },
    "f24b26ec-7938-42cc-a426-589203ceb4b1": {
     "id": "f24b26ec-7938-42cc-a426-589203ceb4b1",
     "prev": "78702d2f-f4cc-4b34-bd7d-5fc5633c6d6e",
     "regions": {
      "57051255-14f1-4afa-b7be-0ad73b64c4f7": {
       "attrs": {
        "height": 0.8,
        "width": 0.8,
        "x": 0.1,
        "y": 0.1
       },
       "content": {
        "cell": "fd68431d-d6ed-4527-b4c2-a4b69da9c02e",
        "part": "whole"
       },
       "id": "57051255-14f1-4afa-b7be-0ad73b64c4f7"
      }
     }
    },
    "f7bc1f38-cf5c-4d93-b3d0-c474f4f32c66": {
     "id": "f7bc1f38-cf5c-4d93-b3d0-c474f4f32c66",
     "prev": "109f17f8-a5b6-457a-bc4b-64cbd4b14855",
     "regions": {
      "eb121fd7-829a-4cd2-86a1-c853b89c633e": {
       "attrs": {
        "height": 0.8,
        "width": 0.8,
        "x": 0.1,
        "y": 0.1
       },
       "content": {
        "cell": "cc08a68a-fa27-4ca9-b2a6-5d852e3efd6d",
        "part": "whole"
       },
       "id": "eb121fd7-829a-4cd2-86a1-c853b89c633e"
      }
     }
    }
   },
   "themes": {}
  }
 },
 "nbformat": 4,
 "nbformat_minor": 4
}
