{
 "cells": [
  {
   "cell_type": "markdown",
   "metadata": {},
   "source": [
    "# Введение"
   ]
  },
  {
   "cell_type": "markdown",
   "metadata": {},
   "source": [
    "## Знакомство"
   ]
  },
  {
   "cell_type": "markdown",
   "metadata": {},
   "source": [
    "## Чему вы научитесь на комплексном курсе по разработке веб-приложений на Python\n",
    "1. Программировать на языке Python (на необходимом уровне)\n",
    "1. Создавать Web-приложения на python\n",
    "\n",
    "## Чему вы НЕ научитесь\n",
    "\n",
    "1. Работе с большими данными\n",
    "1. Машинному обучению\n",
    "1. Работе с IA\n",
    "\n",
    "## Как взаимодействуем\n",
    "\n",
    "1. Группа в Slack\n",
    "    1. Ищете ответ в интернете\n",
    "    1. Вопросы сначала задаете группе \n",
    "    1. Спрашиваете меня\n",
    "        1. Я не отвечаю на вопросы\n",
    "        1. Я задаю 100 500 вопросов - вы отвечаете сами\n",
    "\n",
    "*Если вопрос задается сразу (только) в личку - я на него не отвечаю*\n",
    "## Как сдаем ДЗ\n",
    "\n",
    "1. До 21.00 дня, предшествующего дню занятия\n",
    "1. Первые несколько занятий ДЗ сдаем в ЛС Слак, потом только Github\n",
    "1. Финальный проект - делаем последний месяц\n",
    "1. Финальная оценка: 0.4 * ср. оценку по ДЗ + 0.6 * Оценка за проект\n",
    "1. Пересдача финального проекта - НЕ ПРЕДУСМОТРЕНА!\n",
    "## Почему Python\n",
    "\n",
    "1. Один из самых популярных ЯП[https://trends.rbc.ru/trends/education/601c1a6b9a79472c4806230a]\n",
    "1. Универсальный\n",
    "1. Легко* учить"
   ]
  },
  {
   "cell_type": "code",
   "execution_count": 1,
   "metadata": {},
   "outputs": [
    {
     "name": "stdout",
     "output_type": "stream",
     "text": [
      "Hello World\n"
     ]
    }
   ],
   "source": [
    "print(\"Hello World\")"
   ]
  },
  {
   "cell_type": "markdown",
   "metadata": {},
   "source": [
    "## Программирование это\n",
    "\n",
    "**Программи́рование** — процесс создания компьютерных программ.\n",
    "\n",
    "**Программы** = алгоритмы + структуры данных + язык(и) программирования\n",
    "\n",
    "**Алгори́тм** (лат. al­go­rithmi — от арабского имени математика Аль-Хорезми) — конечная совокупность точно заданных правил решения произвольного класса задач или набор инструкций, описывающих порядок действий исполнителя для решения некоторой задачи.\n",
    "\n",
    "\\**wikipedia*"
   ]
  },
  {
   "cell_type": "markdown",
   "metadata": {},
   "source": [
    "## [Основные парадигмы программирования](https://ru.wikipedia.org/wiki/%D0%9F%D0%B0%D1%80%D0%B0%D0%B4%D0%B8%D0%B3%D0%BC%D0%B0_%D0%BF%D1%80%D0%BE%D0%B3%D1%80%D0%B0%D0%BC%D0%BC%D0%B8%D1%80%D0%BE%D0%B2%D0%B0%D0%BD%D0%B8%D1%8F)\n",
    " - Основные модели программирования\n",
    "     - Функциональное программирование\n",
    "     - Объектно-ориентированное программирование\n",
    "     - ..\n",
    "     \n",
    "\n",
    "### Функциональное программирование\n",
    "**Функциона́льное программи́рование** — раздел дискретной математики и парадигма программирования, в которой процесс вычисления трактуется как вычисление значений функций в *математическом понимании* последних (Функции операются только на входные аргументы и не имеют побочных эфектов).\n",
    "\n",
    "Понятия:\n",
    " - Чистые функции\n",
    " - Неизменяемость(Immutability)\n",
    " - Высшие функции\n",
    "\n",
    "Функциональные ЯП:\n",
    " - Лисп\n",
    " - Erlang\n",
    " - F#\n",
    " - Python\n",
    " \n",
    " \\**Python is not a functional programming language but it does incorporate some of its concepts alongside other programming paradigms*."
   ]
  },
  {
   "cell_type": "markdown",
   "metadata": {},
   "source": [
    "### Примеры"
   ]
  },
  {
   "cell_type": "code",
   "execution_count": 2,
   "metadata": {},
   "outputs": [
    {
     "name": "stdout",
     "output_type": "stream",
     "text": [
      "[4, 8, 12]\n"
     ]
    }
   ],
   "source": [
    "# чистая функция\n",
    "# a_list не изменяется - возвращается новый список\n",
    "def my_func(a_list: list, mult: int) -> int:\n",
    "    new_list = []\n",
    "    for i in a_list:\n",
    "        new_list.append(i * mult)\n",
    "    return new_list\n",
    "print(my_func([1,2,3], 4)) # should be [4, 8, 12]"
   ]
  },
  {
   "cell_type": "code",
   "execution_count": 3,
   "metadata": {},
   "outputs": [
    {
     "name": "stdout",
     "output_type": "stream",
     "text": [
      "(1, 2, 3)\n"
     ]
    }
   ],
   "source": [
    "# Неизменяемость(Immutability)\n",
    "# tuples \n",
    "a = (1,2,3)\n",
    "print(a)"
   ]
  },
  {
   "cell_type": "code",
   "execution_count": 4,
   "metadata": {},
   "outputs": [
    {
     "name": "stdout",
     "output_type": "stream",
     "text": [
      "1\n"
     ]
    }
   ],
   "source": [
    "print(a[0])"
   ]
  },
  {
   "cell_type": "code",
   "execution_count": 5,
   "metadata": {},
   "outputs": [
    {
     "ename": "TypeError",
     "evalue": "'tuple' object does not support item assignment",
     "output_type": "error",
     "traceback": [
      "\u001b[0;31m---------------------------------------------------------------------------\u001b[0m",
      "\u001b[0;31mTypeError\u001b[0m                                 Traceback (most recent call last)",
      "Input \u001b[0;32mIn [5]\u001b[0m, in \u001b[0;36m<cell line: 2>\u001b[0;34m()\u001b[0m\n\u001b[1;32m      1\u001b[0m \u001b[38;5;66;03m# but\u001b[39;00m\n\u001b[0;32m----> 2\u001b[0m a[\u001b[38;5;241m0\u001b[39m] \u001b[38;5;241m=\u001b[39m \u001b[38;5;241m3\u001b[39m\n",
      "\u001b[0;31mTypeError\u001b[0m: 'tuple' object does not support item assignment"
     ]
    }
   ],
   "source": [
    "# but\n",
    "a[0] = 3"
   ]
  },
  {
   "cell_type": "code",
   "execution_count": 6,
   "metadata": {},
   "outputs": [
    {
     "data": {
      "text/plain": [
       "5"
      ]
     },
     "execution_count": 6,
     "metadata": {},
     "output_type": "execute_result"
    }
   ],
   "source": [
    "# Высшие функции - может принять на вход функцию и отдать функцию\n",
    "\n",
    "def box_func(func):\n",
    "    return func\n",
    "\n",
    "def my_summ(a, b):\n",
    "    return a + b\n",
    "\n",
    "new_old_summ = box_func(my_summ)\n",
    "new_old_summ\n",
    "new_old_summ(2,3)\n"
   ]
  },
  {
   "cell_type": "markdown",
   "metadata": {},
   "source": [
    "# ООП"
   ]
  },
  {
   "cell_type": "markdown",
   "metadata": {},
   "source": [
    "Методология программирования, основанная на представлении программы в виде совокупности объектов, каждый из которых является экземпляром определённого класса, а классы образуют иерархию наследования"
   ]
  },
  {
   "cell_type": "markdown",
   "metadata": {},
   "source": [
    "Оновные понятия:\n",
    "- абстрагирование\n",
    "- инкапсуляция\n",
    "- наследование\n",
    "- полиморфизм\n",
    "- класс\n",
    "- объект"
   ]
  },
  {
   "cell_type": "markdown",
   "metadata": {},
   "source": [
    "### Пример"
   ]
  },
  {
   "cell_type": "code",
   "execution_count": null,
   "metadata": {},
   "outputs": [],
   "source": [
    "class Dog():\n",
    "    def __init__(self, name):\n",
    "        self.name = name\n",
    "    def bark(self):\n",
    "        print(f'Dog {self.name} barks')\n",
    "graf = Dog('Граф')\n",
    "print(graf.name)"
   ]
  },
  {
   "cell_type": "markdown",
   "metadata": {},
   "source": [
    "# Язык программирования Python\n",
    "\n",
    "[Домашняя страница](https://www.python.org/)\n",
    "![](./images/python_intro.png)\n"
   ]
  },
  {
   "cell_type": "markdown",
   "metadata": {},
   "source": [
    "# Обзор возможностей\n",
    "- Скрипты\n",
    "- Автоматизация\n",
    "- Администрирование\n",
    "- Математика\n",
    "- Веб\n",
    "- Сети\n",
    "- ML/AI\n",
    "- GUI\n",
    "- Games\n",
    "...\n",
    "\n",
    "### [100 крутых проектов на Python](https://proglib.io/p/great-python-projects/)"
   ]
  },
  {
   "cell_type": "markdown",
   "metadata": {},
   "source": [
    "Python — высокоуровневый язык программирования общего назначения, ориентированный на повышение **производительности разработчика и читаемости кода**.\n",
    "\n",
    "Синтаксис ядра Python минималистичен. В то же время стандартная библиотека включает большой объём полезных функций.\n",
    "\n",
    "Python поддерживает:\n",
    " - структурное\n",
    " - объектно-ориентированное\n",
    " - функциональное\n",
    " - императивное\n",
    " - аспектно-ориентированное программирование.\n",
    " \n",
    "Основные архитектурные черты — динамическая типизация, автоматическое управление памятью, полная интроспекция, механизм обработки исключений, поддержка многопоточных вычислений, высокоуровневые структуры данных. Поддерживается разбиение программ на модули, которые, в свою очередь, могут объединяться в пакеты.\n",
    "\n",
    "Эталонной реализацией Python является интерпретатор CPython."
   ]
  },
  {
   "cell_type": "markdown",
   "metadata": {},
   "source": [
    "## Сравнение Python и PHP и С++\n",
    "\n",
    "|Python|PHP|C++|\n",
    "|:------|:----|:----|\n",
    "|Интерпретируемый|Интерпретируемый|Компилируемый|\n",
    "|Общего назначения|Общего назначения|Общего назначения|\n",
    "|Динамическая, строгая типизация|Динамическая, строгая типизация|Статическая типизация|\n",
    "|медленный|быстрее|очень быстрый|"
   ]
  },
  {
   "cell_type": "markdown",
   "metadata": {},
   "source": [
    "# Установка Python\n",
    "\n",
    "- Linux/Mac - уже установлен\n",
    "- Windows [скачать](https://www.python.org/ftp/python/3.10.6/python-3.10.6-amd64.exe)\n",
    "\n",
    "```python\n",
    "import this # zen python\n",
    "```\n",
    "\n",
    "```python\n",
    "import antigravity\n",
    "```"
   ]
  },
  {
   "cell_type": "markdown",
   "metadata": {},
   "source": [
    "# IDE for Python\n",
    "\n",
    " - **[VSCode](https://code.visualstudio.com/Download) (Microsoft)**\n",
    " - [PyCharm](https://www.jetbrains.com/pycharm/download/) (JetBrains)\n",
    " - [Atom](https://atom.io/) OpenSource\n",
    " - [Sublime Text](https://www.sublimetext.com/3) Условно бесплатный"
   ]
  },
  {
   "cell_type": "markdown",
   "metadata": {},
   "source": [
    "# Установка и настройка VSCode\n",
    "\n",
    " - [download](https://code.visualstudio.com/Download)\n",
    " - [configure](https://code.visualstudio.com/docs/languages/python)\n",
    "\n",
    "## Configure\n",
    "\n",
    "## Важные фичи:\n",
    "\n",
    "1. Встроенный терминал\n",
    "2. Большое число плагинов для большинства языков программирования\n",
    "2. Автоматическое детектировани venv\n",
    "2. Сниппеты\n",
    "2. Форматирование кода\n",
    "2. Подсветки синтаксиса\n",
    "3. Большое число тем оформления и иконок\n",
    "4. Итегрированная работа с git\n",
    "5. Иерархия настроек user/workspace\n",
    "7. Дебагер\n",
    "8. Средства редактировани текста\n",
    "9. Многое другое\n",
    "\n",
    "\n",
    "- Встроенный терминал - `CTRL+ ~ `\n",
    "- Быстрый поиск файлов - `CTRL+P`\n",
    "- Командная панель - `CTRL+SHIFT+P`\n",
    "- Интерактивная игровая площадка `help -> interactive playgroung`\n",
    "\n",
    "## Установка и настройка pylint\n",
    "- Установка pylint и autopep8\n",
    "```bash\n",
    "pip install pylint autopep8\n",
    "```\n",
    "- Выбор интерпретатора \n",
    "- Выбор линтера\n",
    "    `Ctrl+Shift+P` -> `Python: Select Linter` \n",
    "- Настройки уровня предупреждений\n",
    "    `settings -> search linter`\n",
    "- Допнастройки:\n",
    "    - \"python.linting.pylintArgs\": [\"--reports\", \"12\", \"--disable-msg\", \"I0011\"]\n",
    "    - или прямо в в файле `.pylintrc`: `pylint --generate-rcfile > .pylintrc` "
   ]
  },
  {
   "cell_type": "markdown",
   "metadata": {},
   "source": []
  },
  {
   "cell_type": "markdown",
   "metadata": {},
   "source": [
    "# Установка и использование Jupyter notebook\n",
    "\n",
    "\n",
    "\n",
    "\n",
    "```bash\n",
    "# install it\n",
    "pip install jupyter\n",
    "```\n",
    "\n",
    "```bash\n",
    "# run it\n",
    "jupyter notebook\n",
    "```"
   ]
  },
  {
   "cell_type": "markdown",
   "metadata": {},
   "source": [
    "# Запуск python-программы\n",
    "\n",
    "- Файл \n",
    "- Интерактивный режим\n",
    "\n",
    "## Запуск из файла(linux\\mac)\n",
    "\n",
    "![](how_to_run.png)\n",
    "## Запуск из файла(windows)\n",
    "![](how_to_run_win.png)\n",
    "\n",
    "## Интеактивый режим\n",
    "![](interactive.png)"
   ]
  },
  {
   "cell_type": "code",
   "execution_count": null,
   "metadata": {},
   "outputs": [],
   "source": [
    "print(\"hello world!!!\")"
   ]
  },
  {
   "cell_type": "code",
   "execution_count": null,
   "metadata": {},
   "outputs": [],
   "source": [
    "for i in range(5):\n",
    "    print(i)"
   ]
  },
  {
   "cell_type": "code",
   "execution_count": null,
   "metadata": {},
   "outputs": [],
   "source": []
  },
  {
   "cell_type": "code",
   "execution_count": null,
   "metadata": {},
   "outputs": [],
   "source": [
    "1 + 1"
   ]
  },
  {
   "cell_type": "code",
   "execution_count": null,
   "metadata": {},
   "outputs": [],
   "source": []
  },
  {
   "cell_type": "code",
   "execution_count": null,
   "metadata": {},
   "outputs": [],
   "source": []
  },
  {
   "cell_type": "code",
   "execution_count": null,
   "metadata": {},
   "outputs": [],
   "source": []
  },
  {
   "cell_type": "code",
   "execution_count": null,
   "metadata": {},
   "outputs": [],
   "source": []
  },
  {
   "cell_type": "code",
   "execution_count": null,
   "metadata": {},
   "outputs": [],
   "source": []
  },
  {
   "cell_type": "code",
   "execution_count": null,
   "metadata": {},
   "outputs": [],
   "source": []
  }
 ],
 "metadata": {
  "kernelspec": {
   "display_name": "Python 3.10.6 64-bit",
   "language": "python",
   "name": "python3"
  },
  "language_info": {
   "codemirror_mode": {
    "name": "ipython",
    "version": 3
   },
   "file_extension": ".py",
   "mimetype": "text/x-python",
   "name": "python",
   "nbconvert_exporter": "python",
   "pygments_lexer": "ipython3",
   "version": "3.10.6"
  },
  "vscode": {
   "interpreter": {
    "hash": "aee8b7b246df8f9039afb4144a1f6fd8d2ca17a180786b69acc140d282b71a49"
   }
  }
 },
 "nbformat": 4,
 "nbformat_minor": 4
}
