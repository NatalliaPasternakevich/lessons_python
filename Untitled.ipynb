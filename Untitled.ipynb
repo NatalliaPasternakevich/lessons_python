{
 "cells": [
  {
   "cell_type": "code",
   "execution_count": 3,
   "id": "675bacbb",
   "metadata": {},
   "outputs": [],
   "source": [
    "login = input('Введите Ваш логин :')"
   ]
  },
  {
   "cell_type": "code",
   "execution_count": 5,
   "id": "b2a9c0ee",
   "metadata": {},
   "outputs": [],
   "source": [
    "def check_password(f):\n",
    "    login=input(\"Введите Ваш логин :\")\n",
    "    if login=='admin':\n",
    "        def wrapper_ok(*args):\n",
    "            r=f(*args)\n",
    "            return r\n",
    "        return wrapper_ok    \n",
    "    else:\n",
    "        def wrapper_bad(*args):\n",
    "            print(\"Доступ запрещен!\")\n",
    "            return None\n",
    "        return wrapper_bad        \n",
    " \n",
    "@check_password\n",
    "def fib(n):\n",
    "    sume=sum(n)\n",
    "    return sume\n",
    "    \n",
    "print(fib(1,2,3))"
   ]
  },
  {
   "cell_type": "code",
   "execution_count": null,
   "id": "13db62ab",
   "metadata": {},
   "outputs": [],
   "source": []
  },
  {
   "cell_type": "code",
   "execution_count": null,
   "id": "00c83627",
   "metadata": {},
   "outputs": [],
   "source": []
  }
 ],
 "metadata": {
  "kernelspec": {
   "display_name": "Python 3.10.6 64-bit",
   "language": "python",
   "name": "python3"
  },
  "language_info": {
   "codemirror_mode": {
    "name": "ipython",
    "version": 3
   },
   "file_extension": ".py",
   "mimetype": "text/x-python",
   "name": "python",
   "nbconvert_exporter": "python",
   "pygments_lexer": "ipython3",
   "version": "3.10.6"
  },
  "vscode": {
   "interpreter": {
    "hash": "aee8b7b246df8f9039afb4144a1f6fd8d2ca17a180786b69acc140d282b71a49"
   }
  }
 },
 "nbformat": 4,
 "nbformat_minor": 5
}
